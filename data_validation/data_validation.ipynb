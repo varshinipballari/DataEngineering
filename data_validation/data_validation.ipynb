{
  "nbformat": 4,
  "nbformat_minor": 0,
  "metadata": {
    "colab": {
      "provenance": []
    },
    "kernelspec": {
      "name": "python3",
      "display_name": "Python 3"
    },
    "language_info": {
      "name": "python"
    }
  },
  "cells": [
    {
      "cell_type": "code",
      "source": [
        "from google.colab import files\n",
        "uploaded = files.upload()"
      ],
      "metadata": {
        "colab": {
          "base_uri": "https://localhost:8080/",
          "height": 72
        },
        "id": "1CHRpC_J5BZ5",
        "outputId": "296f4b0c-61fc-41c5-a4fe-f35cab43312f"
      },
      "execution_count": 1,
      "outputs": [
        {
          "output_type": "display_data",
          "data": {
            "text/plain": [
              "<IPython.core.display.HTML object>"
            ],
            "text/html": [
              "\n",
              "     <input type=\"file\" id=\"files-9697c283-e48f-4382-b14a-65839bb8c070\" name=\"files[]\" multiple disabled\n",
              "        style=\"border:none\" />\n",
              "     <output id=\"result-9697c283-e48f-4382-b14a-65839bb8c070\">\n",
              "      Upload widget is only available when the cell has been executed in the\n",
              "      current browser session. Please rerun this cell to enable.\n",
              "      </output>\n",
              "      <script>// Copyright 2017 Google LLC\n",
              "//\n",
              "// Licensed under the Apache License, Version 2.0 (the \"License\");\n",
              "// you may not use this file except in compliance with the License.\n",
              "// You may obtain a copy of the License at\n",
              "//\n",
              "//      http://www.apache.org/licenses/LICENSE-2.0\n",
              "//\n",
              "// Unless required by applicable law or agreed to in writing, software\n",
              "// distributed under the License is distributed on an \"AS IS\" BASIS,\n",
              "// WITHOUT WARRANTIES OR CONDITIONS OF ANY KIND, either express or implied.\n",
              "// See the License for the specific language governing permissions and\n",
              "// limitations under the License.\n",
              "\n",
              "/**\n",
              " * @fileoverview Helpers for google.colab Python module.\n",
              " */\n",
              "(function(scope) {\n",
              "function span(text, styleAttributes = {}) {\n",
              "  const element = document.createElement('span');\n",
              "  element.textContent = text;\n",
              "  for (const key of Object.keys(styleAttributes)) {\n",
              "    element.style[key] = styleAttributes[key];\n",
              "  }\n",
              "  return element;\n",
              "}\n",
              "\n",
              "// Max number of bytes which will be uploaded at a time.\n",
              "const MAX_PAYLOAD_SIZE = 100 * 1024;\n",
              "\n",
              "function _uploadFiles(inputId, outputId) {\n",
              "  const steps = uploadFilesStep(inputId, outputId);\n",
              "  const outputElement = document.getElementById(outputId);\n",
              "  // Cache steps on the outputElement to make it available for the next call\n",
              "  // to uploadFilesContinue from Python.\n",
              "  outputElement.steps = steps;\n",
              "\n",
              "  return _uploadFilesContinue(outputId);\n",
              "}\n",
              "\n",
              "// This is roughly an async generator (not supported in the browser yet),\n",
              "// where there are multiple asynchronous steps and the Python side is going\n",
              "// to poll for completion of each step.\n",
              "// This uses a Promise to block the python side on completion of each step,\n",
              "// then passes the result of the previous step as the input to the next step.\n",
              "function _uploadFilesContinue(outputId) {\n",
              "  const outputElement = document.getElementById(outputId);\n",
              "  const steps = outputElement.steps;\n",
              "\n",
              "  const next = steps.next(outputElement.lastPromiseValue);\n",
              "  return Promise.resolve(next.value.promise).then((value) => {\n",
              "    // Cache the last promise value to make it available to the next\n",
              "    // step of the generator.\n",
              "    outputElement.lastPromiseValue = value;\n",
              "    return next.value.response;\n",
              "  });\n",
              "}\n",
              "\n",
              "/**\n",
              " * Generator function which is called between each async step of the upload\n",
              " * process.\n",
              " * @param {string} inputId Element ID of the input file picker element.\n",
              " * @param {string} outputId Element ID of the output display.\n",
              " * @return {!Iterable<!Object>} Iterable of next steps.\n",
              " */\n",
              "function* uploadFilesStep(inputId, outputId) {\n",
              "  const inputElement = document.getElementById(inputId);\n",
              "  inputElement.disabled = false;\n",
              "\n",
              "  const outputElement = document.getElementById(outputId);\n",
              "  outputElement.innerHTML = '';\n",
              "\n",
              "  const pickedPromise = new Promise((resolve) => {\n",
              "    inputElement.addEventListener('change', (e) => {\n",
              "      resolve(e.target.files);\n",
              "    });\n",
              "  });\n",
              "\n",
              "  const cancel = document.createElement('button');\n",
              "  inputElement.parentElement.appendChild(cancel);\n",
              "  cancel.textContent = 'Cancel upload';\n",
              "  const cancelPromise = new Promise((resolve) => {\n",
              "    cancel.onclick = () => {\n",
              "      resolve(null);\n",
              "    };\n",
              "  });\n",
              "\n",
              "  // Wait for the user to pick the files.\n",
              "  const files = yield {\n",
              "    promise: Promise.race([pickedPromise, cancelPromise]),\n",
              "    response: {\n",
              "      action: 'starting',\n",
              "    }\n",
              "  };\n",
              "\n",
              "  cancel.remove();\n",
              "\n",
              "  // Disable the input element since further picks are not allowed.\n",
              "  inputElement.disabled = true;\n",
              "\n",
              "  if (!files) {\n",
              "    return {\n",
              "      response: {\n",
              "        action: 'complete',\n",
              "      }\n",
              "    };\n",
              "  }\n",
              "\n",
              "  for (const file of files) {\n",
              "    const li = document.createElement('li');\n",
              "    li.append(span(file.name, {fontWeight: 'bold'}));\n",
              "    li.append(span(\n",
              "        `(${file.type || 'n/a'}) - ${file.size} bytes, ` +\n",
              "        `last modified: ${\n",
              "            file.lastModifiedDate ? file.lastModifiedDate.toLocaleDateString() :\n",
              "                                    'n/a'} - `));\n",
              "    const percent = span('0% done');\n",
              "    li.appendChild(percent);\n",
              "\n",
              "    outputElement.appendChild(li);\n",
              "\n",
              "    const fileDataPromise = new Promise((resolve) => {\n",
              "      const reader = new FileReader();\n",
              "      reader.onload = (e) => {\n",
              "        resolve(e.target.result);\n",
              "      };\n",
              "      reader.readAsArrayBuffer(file);\n",
              "    });\n",
              "    // Wait for the data to be ready.\n",
              "    let fileData = yield {\n",
              "      promise: fileDataPromise,\n",
              "      response: {\n",
              "        action: 'continue',\n",
              "      }\n",
              "    };\n",
              "\n",
              "    // Use a chunked sending to avoid message size limits. See b/62115660.\n",
              "    let position = 0;\n",
              "    do {\n",
              "      const length = Math.min(fileData.byteLength - position, MAX_PAYLOAD_SIZE);\n",
              "      const chunk = new Uint8Array(fileData, position, length);\n",
              "      position += length;\n",
              "\n",
              "      const base64 = btoa(String.fromCharCode.apply(null, chunk));\n",
              "      yield {\n",
              "        response: {\n",
              "          action: 'append',\n",
              "          file: file.name,\n",
              "          data: base64,\n",
              "        },\n",
              "      };\n",
              "\n",
              "      let percentDone = fileData.byteLength === 0 ?\n",
              "          100 :\n",
              "          Math.round((position / fileData.byteLength) * 100);\n",
              "      percent.textContent = `${percentDone}% done`;\n",
              "\n",
              "    } while (position < fileData.byteLength);\n",
              "  }\n",
              "\n",
              "  // All done.\n",
              "  yield {\n",
              "    response: {\n",
              "      action: 'complete',\n",
              "    }\n",
              "  };\n",
              "}\n",
              "\n",
              "scope.google = scope.google || {};\n",
              "scope.google.colab = scope.google.colab || {};\n",
              "scope.google.colab._files = {\n",
              "  _uploadFiles,\n",
              "  _uploadFilesContinue,\n",
              "};\n",
              "})(self);\n",
              "</script> "
            ]
          },
          "metadata": {}
        },
        {
          "output_type": "stream",
          "name": "stdout",
          "text": [
            "Saving employees.csv to employees.csv\n"
          ]
        }
      ]
    },
    {
      "cell_type": "code",
      "execution_count": 2,
      "metadata": {
        "id": "hwP3Tv1-18kH",
        "colab": {
          "base_uri": "https://localhost:8080/"
        },
        "outputId": "7291afda-568f-455f-f1ab-134ed093b4a5"
      },
      "outputs": [
        {
          "output_type": "stream",
          "name": "stdout",
          "text": [
            "File size in bytes: 13196189\n",
            "Number of records: 20000\n"
          ]
        }
      ],
      "source": [
        "import pandas as pd\n",
        "import csv\n",
        "import os\n",
        "df = pd.read_csv(\"employees.csv\")\n",
        "print(f\"File size in bytes: {df.memory_usage(deep=True).sum()}\")\n",
        "print(f\"Number of records: {len(df)}\")"
      ]
    },
    {
      "cell_type": "code",
      "source": [
        "file_path = \"employees.csv\"\n",
        "file_size = os.path.getsize(file_path)\n",
        "print(f\"File size on disk: {file_size} bytes\")"
      ],
      "metadata": {
        "colab": {
          "base_uri": "https://localhost:8080/"
        },
        "id": "7yS2j6WN20om",
        "outputId": "21ace5f4-e3e6-49df-de17-08f944bd1594"
      },
      "execution_count": 3,
      "outputs": [
        {
          "output_type": "stream",
          "name": "stdout",
          "text": [
            "File size on disk: 3030111 bytes\n"
          ]
        }
      ]
    },
    {
      "cell_type": "code",
      "source": [
        "name_count_null = df['name'].isnull().sum()\n",
        "print(f\"Assertion with missing name: {name_count_null} \")\n",
        "\n",
        "eid_count_null = df['eid'].isnull().sum()\n",
        "print(f\"Assertion with missing eid: {eid_count_null}\")"
      ],
      "metadata": {
        "colab": {
          "base_uri": "https://localhost:8080/"
        },
        "id": "FO0Glz_Txgjk",
        "outputId": "8fdefb09-effe-4841-a615-5d41d536941c"
      },
      "execution_count": 4,
      "outputs": [
        {
          "output_type": "stream",
          "name": "stdout",
          "text": [
            "Assertion with missing name: 19 \n",
            "Assertion with missing eid: 0\n"
          ]
        }
      ]
    },
    {
      "cell_type": "code",
      "source": [
        "df['hire_date'] = pd.to_datetime(df['hire_date'], errors='coerce')\n",
        "before_2015 = df[df['hire_date'] < '2015-01-01']\n",
        "print(f\"Assertion for hired before 2015: {len(before_2015)}\")"
      ],
      "metadata": {
        "colab": {
          "base_uri": "https://localhost:8080/"
        },
        "id": "j0Jx63wN0FpN",
        "outputId": "eb743953-eddb-4c45-80f1-155ec4cde4d1"
      },
      "execution_count": 5,
      "outputs": [
        {
          "output_type": "stream",
          "name": "stdout",
          "text": [
            "Assertion for hired before 2015: 18\n"
          ]
        }
      ]
    },
    {
      "cell_type": "code",
      "source": [
        "violations_salary = df[df['salary'] > 100000]\n",
        "print(f\"Assertion for salary over $100,000: {len(violations_salary)}\")"
      ],
      "metadata": {
        "colab": {
          "base_uri": "https://localhost:8080/"
        },
        "id": "Nk6B3r9O8RQS",
        "outputId": "1e97412d-79ce-47ef-be18-3a44e860033f"
      },
      "execution_count": 6,
      "outputs": [
        {
          "output_type": "stream",
          "name": "stdout",
          "text": [
            "Assertion for salary over $100,000: 2202\n"
          ]
        }
      ]
    },
    {
      "cell_type": "code",
      "source": [
        "df['birth_date'] = pd.to_datetime(df['birth_date'], errors='coerce')\n",
        "df['hire_date'] = pd.to_datetime(df['hire_date'], errors='coerce')\n",
        "\n",
        "birth_before_hire = df[df['birth_date'] >= df['hire_date']]\n",
        "print(f\"Assertion for birth date not before hire date: {len(birth_before_hire)}\")"
      ],
      "metadata": {
        "colab": {
          "base_uri": "https://localhost:8080/"
        },
        "id": "AveQjAAko64u",
        "outputId": "0f4a4b55-bae0-4a02-f905-504731ac2bab"
      },
      "execution_count": 8,
      "outputs": [
        {
          "output_type": "stream",
          "name": "stdout",
          "text": [
            "Assertion for birth date not before hire date: 13\n"
          ]
        }
      ]
    },
    {
      "cell_type": "code",
      "source": [
        "self_reporting = df[df['eid'] == df['reports_to']]\n",
        "print(f\"Assertion to see employees are reports to self: {len(self_reporting)}\")"
      ],
      "metadata": {
        "colab": {
          "base_uri": "https://localhost:8080/"
        },
        "id": "8nT3rml-ph8B",
        "outputId": "0433a5df-3541-4ed2-82b7-b9fa2b8d4ff9"
      },
      "execution_count": 9,
      "outputs": [
        {
          "output_type": "stream",
          "name": "stdout",
          "text": [
            "Assertion to see employees are reports to self: 1\n"
          ]
        }
      ]
    },
    {
      "cell_type": "code",
      "source": [
        "manager_ids = set(df['reports_to'].dropna())\n",
        "employee_ids = set(df['eid'])\n",
        "\n",
        "invalid_manager_ids = manager_ids - employee_ids\n",
        "invalid_managers = df[df['reports_to'].isin(invalid_manager_ids)]\n",
        "print(f\"Assertion to find invalid manager ID: {len(invalid_managers)}\")"
      ],
      "metadata": {
        "colab": {
          "base_uri": "https://localhost:8080/"
        },
        "id": "nFy1uCVorNV0",
        "outputId": "4e17d332-eb44-4a98-8156-280a681033fa"
      },
      "execution_count": 12,
      "outputs": [
        {
          "output_type": "stream",
          "name": "stdout",
          "text": [
            "Assertion to find invalid manager ID: 7673\n"
          ]
        }
      ]
    },
    {
      "cell_type": "code",
      "source": [
        "duplicate_eids = df[df.duplicated('eid', keep=False)]\n",
        "print(f\"Assertion to find Duplicate employee IDs: {len(duplicate_eids)} \")"
      ],
      "metadata": {
        "colab": {
          "base_uri": "https://localhost:8080/"
        },
        "id": "DOYQvcU7rczf",
        "outputId": "4a2feba1-97a0-40be-bce7-02245065030c"
      },
      "execution_count": 13,
      "outputs": [
        {
          "output_type": "stream",
          "name": "stdout",
          "text": [
            "Assertion to find Duplicate employee IDs: 8066 \n"
          ]
        }
      ]
    },
    {
      "cell_type": "code",
      "source": [
        "city_counts = df['city'].value_counts()\n",
        "\n",
        "cities_with_one = city_counts[city_counts <= 1]\n",
        "print(f\"Assertion to find cities with only one employee: {len(cities_with_one)}\")"
      ],
      "metadata": {
        "colab": {
          "base_uri": "https://localhost:8080/"
        },
        "id": "1zMpf2GvsCh-",
        "outputId": "83043fc5-748e-4349-8d1b-ee04b19b7082"
      },
      "execution_count": 14,
      "outputs": [
        {
          "output_type": "stream",
          "name": "stdout",
          "text": [
            "Assertion to find cities with only one employee: 10024\n"
          ]
        }
      ]
    },
    {
      "cell_type": "code",
      "source": [
        "country_counts = df['country'].value_counts()\n",
        "\n",
        "country_less_two = country_counts[country_counts <= 2]\n",
        "print(f\"Assertion to find country with only two employee: {len(country_less_two)} \")"
      ],
      "metadata": {
        "colab": {
          "base_uri": "https://localhost:8080/"
        },
        "id": "j7DjexoxtA9K",
        "outputId": "31303f64-b853-4da2-9c7a-6c66288b382f"
      },
      "execution_count": 19,
      "outputs": [
        {
          "output_type": "stream",
          "name": "stdout",
          "text": [
            "Assertion to find country with only two employee: 0 \n"
          ]
        }
      ]
    },
    {
      "cell_type": "code",
      "source": [
        "import matplotlib.pyplot as plt"
      ],
      "metadata": {
        "id": "PMpX9Ug3u5a2"
      },
      "execution_count": 20,
      "outputs": []
    },
    {
      "cell_type": "code",
      "source": [
        "salaries = []\n",
        "\n",
        "for _, row in df.iterrows():\n",
        "    try:\n",
        "        salary = float(row['salary'])\n",
        "        salaries.append(salary)\n",
        "    except (ValueError, TypeError):\n",
        "        continue\n",
        "\n",
        "plt.figure(figsize=(8, 5))\n",
        "plt.hist(salaries, bins=20, color='lightgreen', edgecolor='black')\n",
        "plt.title('Histogram of Employee Salaries')\n",
        "plt.xlabel('Salary')\n",
        "plt.ylabel('Number of Employees')\n",
        "plt.grid(True)\n",
        "plt.show()\n",
        "\n",
        "#New Assertion At least 90% of employees earn between $50,000 and $150,000\n",
        "in_range = sum(1 for s in salaries if 50000 <= s <= 150000)\n",
        "percentage_in_range = (in_range / len(salaries)) * 100\n",
        "\n",
        "print(f\"\\nNew Statistical Assertion: {percentage_in_range:.2f}% of employees earn between $50,000 and $150,000.\")\n",
        "\n",
        "if percentage_in_range >= 90:\n",
        "    print(\"The data satisfies the new statistical assertion.\")\n",
        "else:\n",
        "    print(\"The data does NOT satisfy the new statistical assertion.\")\n",
        "\n"
      ],
      "metadata": {
        "colab": {
          "base_uri": "https://localhost:8080/",
          "height": 539
        },
        "id": "fDRHdvWRxndv",
        "outputId": "cbdbc2a8-d47a-4c6f-c62e-a108e2e63bda"
      },
      "execution_count": 24,
      "outputs": [
        {
          "output_type": "display_data",
          "data": {
            "text/plain": [
              "<Figure size 800x500 with 1 Axes>"
            ],
            "image/png": "[encoded data removed]"
          },
          "metadata": {}
        },
        {
          "output_type": "stream",
          "name": "stdout",
          "text": [
            "\n",
            "New Statistical Assertion: 94.38% of employees earn between $50,000 and $150,000.\n",
            "The data satisfies the new statistical assertion.\n"
          ]
        }
      ]
    }
  ]
}