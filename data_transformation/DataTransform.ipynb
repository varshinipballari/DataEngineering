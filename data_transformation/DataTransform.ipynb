{
  "nbformat": 4,
  "nbformat_minor": 0,
  "metadata": {
    "colab": {
      "provenance": [],
      "gpuType": "T4"
    },
    "kernelspec": {
      "name": "python3",
      "display_name": "Python 3"
    },
    "language_info": {
      "name": "python"
    }
  },
  "cells": [
    {
      "cell_type": "code",
      "execution_count": 2,
      "metadata": {
        "colab": {
          "base_uri": "https://localhost:8080/",
          "height": 92
        },
        "id": "rIRCpgdw4JPq",
        "outputId": "3135411e-6a11-402e-8915-e1ba06f07036"
      },
      "outputs": [
        {
          "output_type": "display_data",
          "data": {
            "text/plain": [
              "<IPython.core.display.HTML object>"
            ],
            "text/html": [
              "\n",
              "     <input type=\"file\" id=\"files-44147953-7307-4d76-8f16-4c23ebf05857\" name=\"files[]\" multiple disabled\n",
              "        style=\"border:none\" />\n",
              "     <output id=\"result-44147953-7307-4d76-8f16-4c23ebf05857\">\n",
              "      Upload widget is only available when the cell has been executed in the\n",
              "      current browser session. Please rerun this cell to enable.\n",
              "      </output>\n",
              "      <script>// Copyright 2017 Google LLC\n",
              "//\n",
              "// Licensed under the Apache License, Version 2.0 (the \"License\");\n",
              "// you may not use this file except in compliance with the License.\n",
              "// You may obtain a copy of the License at\n",
              "//\n",
              "//      http://www.apache.org/licenses/LICENSE-2.0\n",
              "//\n",
              "// Unless required by applicable law or agreed to in writing, software\n",
              "// distributed under the License is distributed on an \"AS IS\" BASIS,\n",
              "// WITHOUT WARRANTIES OR CONDITIONS OF ANY KIND, either express or implied.\n",
              "// See the License for the specific language governing permissions and\n",
              "// limitations under the License.\n",
              "\n",
              "/**\n",
              " * @fileoverview Helpers for google.colab Python module.\n",
              " */\n",
              "(function(scope) {\n",
              "function span(text, styleAttributes = {}) {\n",
              "  const element = document.createElement('span');\n",
              "  element.textContent = text;\n",
              "  for (const key of Object.keys(styleAttributes)) {\n",
              "    element.style[key] = styleAttributes[key];\n",
              "  }\n",
              "  return element;\n",
              "}\n",
              "\n",
              "// Max number of bytes which will be uploaded at a time.\n",
              "const MAX_PAYLOAD_SIZE = 100 * 1024;\n",
              "\n",
              "function _uploadFiles(inputId, outputId) {\n",
              "  const steps = uploadFilesStep(inputId, outputId);\n",
              "  const outputElement = document.getElementById(outputId);\n",
              "  // Cache steps on the outputElement to make it available for the next call\n",
              "  // to uploadFilesContinue from Python.\n",
              "  outputElement.steps = steps;\n",
              "\n",
              "  return _uploadFilesContinue(outputId);\n",
              "}\n",
              "\n",
              "// This is roughly an async generator (not supported in the browser yet),\n",
              "// where there are multiple asynchronous steps and the Python side is going\n",
              "// to poll for completion of each step.\n",
              "// This uses a Promise to block the python side on completion of each step,\n",
              "// then passes the result of the previous step as the input to the next step.\n",
              "function _uploadFilesContinue(outputId) {\n",
              "  const outputElement = document.getElementById(outputId);\n",
              "  const steps = outputElement.steps;\n",
              "\n",
              "  const next = steps.next(outputElement.lastPromiseValue);\n",
              "  return Promise.resolve(next.value.promise).then((value) => {\n",
              "    // Cache the last promise value to make it available to the next\n",
              "    // step of the generator.\n",
              "    outputElement.lastPromiseValue = value;\n",
              "    return next.value.response;\n",
              "  });\n",
              "}\n",
              "\n",
              "/**\n",
              " * Generator function which is called between each async step of the upload\n",
              " * process.\n",
              " * @param {string} inputId Element ID of the input file picker element.\n",
              " * @param {string} outputId Element ID of the output display.\n",
              " * @return {!Iterable<!Object>} Iterable of next steps.\n",
              " */\n",
              "function* uploadFilesStep(inputId, outputId) {\n",
              "  const inputElement = document.getElementById(inputId);\n",
              "  inputElement.disabled = false;\n",
              "\n",
              "  const outputElement = document.getElementById(outputId);\n",
              "  outputElement.innerHTML = '';\n",
              "\n",
              "  const pickedPromise = new Promise((resolve) => {\n",
              "    inputElement.addEventListener('change', (e) => {\n",
              "      resolve(e.target.files);\n",
              "    });\n",
              "  });\n",
              "\n",
              "  const cancel = document.createElement('button');\n",
              "  inputElement.parentElement.appendChild(cancel);\n",
              "  cancel.textContent = 'Cancel upload';\n",
              "  const cancelPromise = new Promise((resolve) => {\n",
              "    cancel.onclick = () => {\n",
              "      resolve(null);\n",
              "    };\n",
              "  });\n",
              "\n",
              "  // Wait for the user to pick the files.\n",
              "  const files = yield {\n",
              "    promise: Promise.race([pickedPromise, cancelPromise]),\n",
              "    response: {\n",
              "      action: 'starting',\n",
              "    }\n",
              "  };\n",
              "\n",
              "  cancel.remove();\n",
              "\n",
              "  // Disable the input element since further picks are not allowed.\n",
              "  inputElement.disabled = true;\n",
              "\n",
              "  if (!files) {\n",
              "    return {\n",
              "      response: {\n",
              "        action: 'complete',\n",
              "      }\n",
              "    };\n",
              "  }\n",
              "\n",
              "  for (const file of files) {\n",
              "    const li = document.createElement('li');\n",
              "    li.append(span(file.name, {fontWeight: 'bold'}));\n",
              "    li.append(span(\n",
              "        `(${file.type || 'n/a'}) - ${file.size} bytes, ` +\n",
              "        `last modified: ${\n",
              "            file.lastModifiedDate ? file.lastModifiedDate.toLocaleDateString() :\n",
              "                                    'n/a'} - `));\n",
              "    const percent = span('0% done');\n",
              "    li.appendChild(percent);\n",
              "\n",
              "    outputElement.appendChild(li);\n",
              "\n",
              "    const fileDataPromise = new Promise((resolve) => {\n",
              "      const reader = new FileReader();\n",
              "      reader.onload = (e) => {\n",
              "        resolve(e.target.result);\n",
              "      };\n",
              "      reader.readAsArrayBuffer(file);\n",
              "    });\n",
              "    // Wait for the data to be ready.\n",
              "    let fileData = yield {\n",
              "      promise: fileDataPromise,\n",
              "      response: {\n",
              "        action: 'continue',\n",
              "      }\n",
              "    };\n",
              "\n",
              "    // Use a chunked sending to avoid message size limits. See b/62115660.\n",
              "    let position = 0;\n",
              "    do {\n",
              "      const length = Math.min(fileData.byteLength - position, MAX_PAYLOAD_SIZE);\n",
              "      const chunk = new Uint8Array(fileData, position, length);\n",
              "      position += length;\n",
              "\n",
              "      const base64 = btoa(String.fromCharCode.apply(null, chunk));\n",
              "      yield {\n",
              "        response: {\n",
              "          action: 'append',\n",
              "          file: file.name,\n",
              "          data: base64,\n",
              "        },\n",
              "      };\n",
              "\n",
              "      let percentDone = fileData.byteLength === 0 ?\n",
              "          100 :\n",
              "          Math.round((position / fileData.byteLength) * 100);\n",
              "      percent.textContent = `${percentDone}% done`;\n",
              "\n",
              "    } while (position < fileData.byteLength);\n",
              "  }\n",
              "\n",
              "  // All done.\n",
              "  yield {\n",
              "    response: {\n",
              "      action: 'complete',\n",
              "    }\n",
              "  };\n",
              "}\n",
              "\n",
              "scope.google = scope.google || {};\n",
              "scope.google.colab = scope.google.colab || {};\n",
              "scope.google.colab._files = {\n",
              "  _uploadFiles,\n",
              "  _uploadFilesContinue,\n",
              "};\n",
              "})(self);\n",
              "</script> "
            ]
          },
          "metadata": {}
        },
        {
          "output_type": "stream",
          "name": "stdout",
          "text": [
            "Saving bc_trip259172515_230215.csv to bc_trip259172515_230215.csv\n"
          ]
        },
        {
          "output_type": "execute_result",
          "data": {
            "text/plain": [
              "'/content/bc_trip259172515_230215.csv'"
            ],
            "application/vnd.google.colaboratory.intrinsic+json": {
              "type": "string"
            }
          },
          "metadata": {},
          "execution_count": 2
        }
      ],
      "source": [
        "from google.colab import files\n",
        "import pandas as pd\n",
        "import shutil\n",
        "import os\n",
        "\n",
        "uploaded = files.upload()\n",
        "\n",
        "file_name = next(iter(uploaded))\n",
        "target_path = '/content/bc_trip259172515_230215.csv'\n",
        "shutil.move(file_name, target_path)\n",
        "\n",
        "\n",
        "\n"
      ]
    },
    {
      "cell_type": "code",
      "source": [
        "df = pd.read_csv(target_path)\n",
        "print(\"Number of breadcrumb records:\", len(df))\n",
        "print(df.head())"
      ],
      "metadata": {
        "colab": {
          "base_uri": "https://localhost:8080/"
        },
        "id": "jAXOUe3q4kiW",
        "outputId": "8afeee36-e8ec-4d35-c785-d4de14b7aeb8"
      },
      "execution_count": 3,
      "outputs": [
        {
          "output_type": "stream",
          "name": "stdout",
          "text": [
            "Number of breadcrumb records: 161\n",
            "   EVENT_NO_TRIP  EVENT_NO_STOP            OPD_DATE  VEHICLE_ID  METERS  \\\n",
            "0      259172515      259172517  15FEB2023:00:00:00        4223      40   \n",
            "1      259172515      259172517  15FEB2023:00:00:00        4223      48   \n",
            "2      259172515      259172517  15FEB2023:00:00:00        4223      57   \n",
            "3      259172515      259172517  15FEB2023:00:00:00        4223      73   \n",
            "4      259172515      259172517  15FEB2023:00:00:00        4223     112   \n",
            "\n",
            "   ACT_TIME  GPS_LONGITUDE  GPS_LATITUDE  GPS_SATELLITES  GPS_HDOP  \n",
            "0     20469    -122.648137     45.493082              12       0.7  \n",
            "1     20474    -122.648240     45.493070              12       0.8  \n",
            "2     20479    -122.648352     45.493123              12       0.8  \n",
            "3     20484    -122.648385     45.493262              12       0.7  \n",
            "4     20489    -122.648347     45.493582              12       0.8  \n"
          ]
        }
      ]
    },
    {
      "cell_type": "code",
      "source": [
        "drop_tables = df.drop(columns=['EVENT_NO_STOP', 'GPS_SATELLITES', 'GPS_HDOP'])\n",
        "print(drop_tables.head())"
      ],
      "metadata": {
        "colab": {
          "base_uri": "https://localhost:8080/"
        },
        "id": "sNzQce6Y_vNm",
        "outputId": "c3dce555-abbf-42e8-a119-3d148b94b076"
      },
      "execution_count": 4,
      "outputs": [
        {
          "output_type": "stream",
          "name": "stdout",
          "text": [
            "   EVENT_NO_TRIP            OPD_DATE  VEHICLE_ID  METERS  ACT_TIME  \\\n",
            "0      259172515  15FEB2023:00:00:00        4223      40     20469   \n",
            "1      259172515  15FEB2023:00:00:00        4223      48     20474   \n",
            "2      259172515  15FEB2023:00:00:00        4223      57     20479   \n",
            "3      259172515  15FEB2023:00:00:00        4223      73     20484   \n",
            "4      259172515  15FEB2023:00:00:00        4223     112     20489   \n",
            "\n",
            "   GPS_LONGITUDE  GPS_LATITUDE  \n",
            "0    -122.648137     45.493082  \n",
            "1    -122.648240     45.493070  \n",
            "2    -122.648352     45.493123  \n",
            "3    -122.648385     45.493262  \n",
            "4    -122.648347     45.493582  \n"
          ]
        }
      ]
    },
    {
      "cell_type": "code",
      "source": [
        "filter = pd.read_csv(\n",
        "    '/content/bc_trip259172515_230215.csv',\n",
        "    usecols=lambda col: col not in ['EVENT_NO_STOP', 'GPS_SATELLITES', 'GPS_HDOP']\n",
        ")\n",
        "\n",
        "print(filter.head())"
      ],
      "metadata": {
        "colab": {
          "base_uri": "https://localhost:8080/"
        },
        "id": "H5_V9TxpA2uo",
        "outputId": "548e827f-0f8d-4cf7-b63c-4efb013fef38"
      },
      "execution_count": 5,
      "outputs": [
        {
          "output_type": "stream",
          "name": "stdout",
          "text": [
            "   EVENT_NO_TRIP            OPD_DATE  VEHICLE_ID  METERS  ACT_TIME  \\\n",
            "0      259172515  15FEB2023:00:00:00        4223      40     20469   \n",
            "1      259172515  15FEB2023:00:00:00        4223      48     20474   \n",
            "2      259172515  15FEB2023:00:00:00        4223      57     20479   \n",
            "3      259172515  15FEB2023:00:00:00        4223      73     20484   \n",
            "4      259172515  15FEB2023:00:00:00        4223     112     20489   \n",
            "\n",
            "   GPS_LONGITUDE  GPS_LATITUDE  \n",
            "0    -122.648137     45.493082  \n",
            "1    -122.648240     45.493070  \n",
            "2    -122.648352     45.493123  \n",
            "3    -122.648385     45.493262  \n",
            "4    -122.648347     45.493582  \n"
          ]
        }
      ]
    },
    {
      "cell_type": "code",
      "source": [
        "\n",
        "filter['OPD_DATE'] = pd.to_datetime(filter['OPD_DATE'], format='%d%b%Y:%H:%M:%S')\n",
        "\n",
        "filter['ACT_TIME'] = pd.to_timedelta(filter['ACT_TIME'], unit='s')\n",
        "\n",
        "filter['TIMESTAMP'] = filter['OPD_DATE'] + filter['ACT_TIME']\n",
        "\n",
        "print(filter[['OPD_DATE', 'ACT_TIME', 'TIMESTAMP']].head())\n",
        "\n",
        "\n",
        "print(filter.head())"
      ],
      "metadata": {
        "colab": {
          "base_uri": "https://localhost:8080/"
        },
        "id": "rE9EHwroE6RA",
        "outputId": "65a3258b-cedb-4e9e-c1bf-a3fd1df233b0"
      },
      "execution_count": 11,
      "outputs": [
        {
          "output_type": "stream",
          "name": "stdout",
          "text": [
            "    OPD_DATE        ACT_TIME           TIMESTAMP\n",
            "0 2023-02-15 0 days 05:41:09 2023-02-15 05:41:09\n",
            "1 2023-02-15 0 days 05:41:14 2023-02-15 05:41:14\n",
            "2 2023-02-15 0 days 05:41:19 2023-02-15 05:41:19\n",
            "3 2023-02-15 0 days 05:41:24 2023-02-15 05:41:24\n",
            "4 2023-02-15 0 days 05:41:29 2023-02-15 05:41:29\n",
            "   EVENT_NO_TRIP   OPD_DATE  VEHICLE_ID  METERS        ACT_TIME  \\\n",
            "0      259172515 2023-02-15        4223      40 0 days 05:41:09   \n",
            "1      259172515 2023-02-15        4223      48 0 days 05:41:14   \n",
            "2      259172515 2023-02-15        4223      57 0 days 05:41:19   \n",
            "3      259172515 2023-02-15        4223      73 0 days 05:41:24   \n",
            "4      259172515 2023-02-15        4223     112 0 days 05:41:29   \n",
            "\n",
            "   GPS_LONGITUDE  GPS_LATITUDE           TIMESTAMP  \n",
            "0    -122.648137     45.493082 2023-02-15 05:41:09  \n",
            "1    -122.648240     45.493070 2023-02-15 05:41:14  \n",
            "2    -122.648352     45.493123 2023-02-15 05:41:19  \n",
            "3    -122.648385     45.493262 2023-02-15 05:41:24  \n",
            "4    -122.648347     45.493582 2023-02-15 05:41:29  \n"
          ]
        }
      ]
    },
    {
      "cell_type": "code",
      "source": [
        "filter = filter.drop(columns=['OPD_DATE', 'ACT_TIME'])\n",
        "\n",
        "print(filter.head())"
      ],
      "metadata": {
        "colab": {
          "base_uri": "https://localhost:8080/"
        },
        "id": "RHJcMTys4i3k",
        "outputId": "0f76e9f0-53e1-4b0e-c041-573868d9ba9f"
      },
      "execution_count": 13,
      "outputs": [
        {
          "output_type": "stream",
          "name": "stdout",
          "text": [
            "   EVENT_NO_TRIP  VEHICLE_ID  METERS  GPS_LONGITUDE  GPS_LATITUDE  \\\n",
            "0      259172515        4223      40    -122.648137     45.493082   \n",
            "1      259172515        4223      48    -122.648240     45.493070   \n",
            "2      259172515        4223      57    -122.648352     45.493123   \n",
            "3      259172515        4223      73    -122.648385     45.493262   \n",
            "4      259172515        4223     112    -122.648347     45.493582   \n",
            "\n",
            "            TIMESTAMP  \n",
            "0 2023-02-15 05:41:09  \n",
            "1 2023-02-15 05:41:14  \n",
            "2 2023-02-15 05:41:19  \n",
            "3 2023-02-15 05:41:24  \n",
            "4 2023-02-15 05:41:29  \n"
          ]
        }
      ]
    },
    {
      "cell_type": "code",
      "source": [
        "filter['dM'] = filter['METERS'].diff()\n",
        "filter['dT'] = filter['TIMESTAMP'].diff().dt.total_seconds()\n",
        "\n",
        "filter['SPEED'] = filter.apply(\n",
        "    lambda row: row['dM'] / row['dT'] if row['dT'] and row['dT'] != 0 else 0,\n",
        "    axis=1\n",
        ")\n",
        "\n",
        "filter.drop(columns=['dM', 'dT'], inplace=True)\n",
        "\n",
        "\n",
        "print(f\"Minimum Speed:\",filter['SPEED'].min())\n",
        "print(f\"Maximum Speed:\",filter['SPEED'].max())\n",
        "print(f\"Average Speed:\",  filter['SPEED'].mean())"
      ],
      "metadata": {
        "colab": {
          "base_uri": "https://localhost:8080/"
        },
        "id": "KmpKppTg8Ii9",
        "outputId": "4d532483-9f64-4302-8f9a-fac686e67977"
      },
      "execution_count": 17,
      "outputs": [
        {
          "output_type": "stream",
          "name": "stdout",
          "text": [
            "Minimum Speed: 0.0\n",
            "Maximum Speed: 17.4\n",
            "Average Speed: 7.227205815018314\n"
          ]
        }
      ]
    },
    {
      "cell_type": "code",
      "source": [
        "from google.colab import files\n",
        "import pandas as pd\n",
        "\n",
        "uploaded = files.upload()\n",
        "large_df = pd.read_csv(\"bc_veh4223_230215.csv\")\n"
      ],
      "metadata": {
        "colab": {
          "base_uri": "https://localhost:8080/",
          "height": 73
        },
        "id": "TUmUOBzCBD0m",
        "outputId": "37213805-4623-464c-98f8-a12a1f0b3906"
      },
      "execution_count": 36,
      "outputs": [
        {
          "output_type": "display_data",
          "data": {
            "text/plain": [
              "<IPython.core.display.HTML object>"
            ],
            "text/html": [
              "\n",
              "     <input type=\"file\" id=\"files-9c4e1b8b-8ddf-4fba-992c-e17788a5c77a\" name=\"files[]\" multiple disabled\n",
              "        style=\"border:none\" />\n",
              "     <output id=\"result-9c4e1b8b-8ddf-4fba-992c-e17788a5c77a\">\n",
              "      Upload widget is only available when the cell has been executed in the\n",
              "      current browser session. Please rerun this cell to enable.\n",
              "      </output>\n",
              "      <script>// Copyright 2017 Google LLC\n",
              "//\n",
              "// Licensed under the Apache License, Version 2.0 (the \"License\");\n",
              "// you may not use this file except in compliance with the License.\n",
              "// You may obtain a copy of the License at\n",
              "//\n",
              "//      http://www.apache.org/licenses/LICENSE-2.0\n",
              "//\n",
              "// Unless required by applicable law or agreed to in writing, software\n",
              "// distributed under the License is distributed on an \"AS IS\" BASIS,\n",
              "// WITHOUT WARRANTIES OR CONDITIONS OF ANY KIND, either express or implied.\n",
              "// See the License for the specific language governing permissions and\n",
              "// limitations under the License.\n",
              "\n",
              "/**\n",
              " * @fileoverview Helpers for google.colab Python module.\n",
              " */\n",
              "(function(scope) {\n",
              "function span(text, styleAttributes = {}) {\n",
              "  const element = document.createElement('span');\n",
              "  element.textContent = text;\n",
              "  for (const key of Object.keys(styleAttributes)) {\n",
              "    element.style[key] = styleAttributes[key];\n",
              "  }\n",
              "  return element;\n",
              "}\n",
              "\n",
              "// Max number of bytes which will be uploaded at a time.\n",
              "const MAX_PAYLOAD_SIZE = 100 * 1024;\n",
              "\n",
              "function _uploadFiles(inputId, outputId) {\n",
              "  const steps = uploadFilesStep(inputId, outputId);\n",
              "  const outputElement = document.getElementById(outputId);\n",
              "  // Cache steps on the outputElement to make it available for the next call\n",
              "  // to uploadFilesContinue from Python.\n",
              "  outputElement.steps = steps;\n",
              "\n",
              "  return _uploadFilesContinue(outputId);\n",
              "}\n",
              "\n",
              "// This is roughly an async generator (not supported in the browser yet),\n",
              "// where there are multiple asynchronous steps and the Python side is going\n",
              "// to poll for completion of each step.\n",
              "// This uses a Promise to block the python side on completion of each step,\n",
              "// then passes the result of the previous step as the input to the next step.\n",
              "function _uploadFilesContinue(outputId) {\n",
              "  const outputElement = document.getElementById(outputId);\n",
              "  const steps = outputElement.steps;\n",
              "\n",
              "  const next = steps.next(outputElement.lastPromiseValue);\n",
              "  return Promise.resolve(next.value.promise).then((value) => {\n",
              "    // Cache the last promise value to make it available to the next\n",
              "    // step of the generator.\n",
              "    outputElement.lastPromiseValue = value;\n",
              "    return next.value.response;\n",
              "  });\n",
              "}\n",
              "\n",
              "/**\n",
              " * Generator function which is called between each async step of the upload\n",
              " * process.\n",
              " * @param {string} inputId Element ID of the input file picker element.\n",
              " * @param {string} outputId Element ID of the output display.\n",
              " * @return {!Iterable<!Object>} Iterable of next steps.\n",
              " */\n",
              "function* uploadFilesStep(inputId, outputId) {\n",
              "  const inputElement = document.getElementById(inputId);\n",
              "  inputElement.disabled = false;\n",
              "\n",
              "  const outputElement = document.getElementById(outputId);\n",
              "  outputElement.innerHTML = '';\n",
              "\n",
              "  const pickedPromise = new Promise((resolve) => {\n",
              "    inputElement.addEventListener('change', (e) => {\n",
              "      resolve(e.target.files);\n",
              "    });\n",
              "  });\n",
              "\n",
              "  const cancel = document.createElement('button');\n",
              "  inputElement.parentElement.appendChild(cancel);\n",
              "  cancel.textContent = 'Cancel upload';\n",
              "  const cancelPromise = new Promise((resolve) => {\n",
              "    cancel.onclick = () => {\n",
              "      resolve(null);\n",
              "    };\n",
              "  });\n",
              "\n",
              "  // Wait for the user to pick the files.\n",
              "  const files = yield {\n",
              "    promise: Promise.race([pickedPromise, cancelPromise]),\n",
              "    response: {\n",
              "      action: 'starting',\n",
              "    }\n",
              "  };\n",
              "\n",
              "  cancel.remove();\n",
              "\n",
              "  // Disable the input element since further picks are not allowed.\n",
              "  inputElement.disabled = true;\n",
              "\n",
              "  if (!files) {\n",
              "    return {\n",
              "      response: {\n",
              "        action: 'complete',\n",
              "      }\n",
              "    };\n",
              "  }\n",
              "\n",
              "  for (const file of files) {\n",
              "    const li = document.createElement('li');\n",
              "    li.append(span(file.name, {fontWeight: 'bold'}));\n",
              "    li.append(span(\n",
              "        `(${file.type || 'n/a'}) - ${file.size} bytes, ` +\n",
              "        `last modified: ${\n",
              "            file.lastModifiedDate ? file.lastModifiedDate.toLocaleDateString() :\n",
              "                                    'n/a'} - `));\n",
              "    const percent = span('0% done');\n",
              "    li.appendChild(percent);\n",
              "\n",
              "    outputElement.appendChild(li);\n",
              "\n",
              "    const fileDataPromise = new Promise((resolve) => {\n",
              "      const reader = new FileReader();\n",
              "      reader.onload = (e) => {\n",
              "        resolve(e.target.result);\n",
              "      };\n",
              "      reader.readAsArrayBuffer(file);\n",
              "    });\n",
              "    // Wait for the data to be ready.\n",
              "    let fileData = yield {\n",
              "      promise: fileDataPromise,\n",
              "      response: {\n",
              "        action: 'continue',\n",
              "      }\n",
              "    };\n",
              "\n",
              "    // Use a chunked sending to avoid message size limits. See b/62115660.\n",
              "    let position = 0;\n",
              "    do {\n",
              "      const length = Math.min(fileData.byteLength - position, MAX_PAYLOAD_SIZE);\n",
              "      const chunk = new Uint8Array(fileData, position, length);\n",
              "      position += length;\n",
              "\n",
              "      const base64 = btoa(String.fromCharCode.apply(null, chunk));\n",
              "      yield {\n",
              "        response: {\n",
              "          action: 'append',\n",
              "          file: file.name,\n",
              "          data: base64,\n",
              "        },\n",
              "      };\n",
              "\n",
              "      let percentDone = fileData.byteLength === 0 ?\n",
              "          100 :\n",
              "          Math.round((position / fileData.byteLength) * 100);\n",
              "      percent.textContent = `${percentDone}% done`;\n",
              "\n",
              "    } while (position < fileData.byteLength);\n",
              "  }\n",
              "\n",
              "  // All done.\n",
              "  yield {\n",
              "    response: {\n",
              "      action: 'complete',\n",
              "    }\n",
              "  };\n",
              "}\n",
              "\n",
              "scope.google = scope.google || {};\n",
              "scope.google.colab = scope.google.colab || {};\n",
              "scope.google.colab._files = {\n",
              "  _uploadFiles,\n",
              "  _uploadFilesContinue,\n",
              "};\n",
              "})(self);\n",
              "</script> "
            ]
          },
          "metadata": {}
        },
        {
          "output_type": "stream",
          "name": "stdout",
          "text": [
            "Saving bc_veh4223_230215.csv to bc_veh4223_230215 (7).csv\n"
          ]
        }
      ]
    },
    {
      "cell_type": "code",
      "source": [
        "large_df['OPD_DATE'] = pd.to_datetime(large_df['OPD_DATE'], format='%d%b%Y:%H:%M:%S')\n",
        "\n",
        "large_df['TIMESTAMP'] = large_df['OPD_DATE'] + pd.to_timedelta(large_df['ACT_TIME'], unit='s')\n",
        "\n",
        "large_df['dM'] = large_df['METERS'].diff()\n",
        "large_df['dT'] = large_df['TIMESTAMP'].diff()\n",
        "\n",
        "large_df['SPEED'] = large_df.apply(\n",
        "    lambda row: row['dM'] / row['dT'].total_seconds() if pd.notna(row['dT']) else None,\n",
        "    axis=1\n",
        ")\n",
        "\n",
        "trip = large_df.groupby('EVENT_NO_TRIP')['SPEED'].agg(['max', 'median'])\n",
        "\n",
        "max_speed = trip.loc[trip['max'].idxmax()]\n",
        "speed_value = max_speed['max']\n",
        "\n",
        "max_record = large_df[large_df['SPEED'] == speed_value].iloc[0]\n",
        "\n",
        "print(f\"Max speed for vehicle #4223 on Feb 15, 2023 was\", max_speed)\n",
        "print(f\"The Location ,Longitude, Latitude and time of max speed:\", max_record['GPS_LONGITUDE'], max_record['GPS_LATITUDE'], max_record['TIMESTAMP'])\n",
        "print(f\"Median speed for vehicle #4223 on February 15 2023: {trip['median'].median()} m/s\")\n",
        "\n"
      ],
      "metadata": {
        "colab": {
          "base_uri": "https://localhost:8080/"
        },
        "id": "zikGvXozA1z0",
        "outputId": "274149c6-f97f-406a-d0a5-db6add6e4522"
      },
      "execution_count": 40,
      "outputs": [
        {
          "output_type": "stream",
          "name": "stdout",
          "text": [
            "Max speed for vehicle #4223 on Feb 15, 2023 was max       17.4\n",
            "median     6.4\n",
            "Name: 259172515, dtype: float64\n",
            "The Location ,Longitude, Latitude and time of max speed: -122.660822 45.505452 2023-02-15 05:44:49\n",
            "Median speed for vehicle #4223 on February 15 2023: 7.2 m/s\n"
          ]
        }
      ]
    }
  ]
}