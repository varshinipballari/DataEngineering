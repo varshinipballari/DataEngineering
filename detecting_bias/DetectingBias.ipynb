{
  "nbformat": 4,
  "nbformat_minor": 0,
  "metadata": {
    "colab": {
      "provenance": []
    },
    "kernelspec": {
      "name": "python3",
      "display_name": "Python 3"
    },
    "language_info": {
      "name": "python"
    }
  },
  "cells": [
    {
      "cell_type": "code",
      "execution_count": null,
      "metadata": {
        "id": "2LLRQ1NyaFJm"
      },
      "outputs": [],
      "source": [
        "import pandas as pd\n",
        "\n",
        "from google.colab import files"
      ]
    },
    {
      "cell_type": "code",
      "source": [
        "uploaded = files.upload()"
      ],
      "metadata": {
        "colab": {
          "base_uri": "https://localhost:8080/",
          "height": 73
        },
        "id": "bxb3_o0ZaT5L",
        "outputId": "505ef7d2-61da-4765-9f7b-e72e7aa8a987"
      },
      "execution_count": null,
      "outputs": [
        {
          "output_type": "display_data",
          "data": {
            "text/plain": [
              "<IPython.core.display.HTML object>"
            ],
            "text/html": [
              "\n",
              "     <input type=\"file\" id=\"files-fdfe55c7-bf2b-4dfc-afb5-83bca8cc0f23\" name=\"files[]\" multiple disabled\n",
              "        style=\"border:none\" />\n",
              "     <output id=\"result-fdfe55c7-bf2b-4dfc-afb5-83bca8cc0f23\">\n",
              "      Upload widget is only available when the cell has been executed in the\n",
              "      current browser session. Please rerun this cell to enable.\n",
              "      </output>\n",
              "      <script>// Copyright 2017 Google LLC\n",
              "//\n",
              "// Licensed under the Apache License, Version 2.0 (the \"License\");\n",
              "// you may not use this file except in compliance with the License.\n",
              "// You may obtain a copy of the License at\n",
              "//\n",
              "//      http://www.apache.org/licenses/LICENSE-2.0\n",
              "//\n",
              "// Unless required by applicable law or agreed to in writing, software\n",
              "// distributed under the License is distributed on an \"AS IS\" BASIS,\n",
              "// WITHOUT WARRANTIES OR CONDITIONS OF ANY KIND, either express or implied.\n",
              "// See the License for the specific language governing permissions and\n",
              "// limitations under the License.\n",
              "\n",
              "/**\n",
              " * @fileoverview Helpers for google.colab Python module.\n",
              " */\n",
              "(function(scope) {\n",
              "function span(text, styleAttributes = {}) {\n",
              "  const element = document.createElement('span');\n",
              "  element.textContent = text;\n",
              "  for (const key of Object.keys(styleAttributes)) {\n",
              "    element.style[key] = styleAttributes[key];\n",
              "  }\n",
              "  return element;\n",
              "}\n",
              "\n",
              "// Max number of bytes which will be uploaded at a time.\n",
              "const MAX_PAYLOAD_SIZE = 100 * 1024;\n",
              "\n",
              "function _uploadFiles(inputId, outputId) {\n",
              "  const steps = uploadFilesStep(inputId, outputId);\n",
              "  const outputElement = document.getElementById(outputId);\n",
              "  // Cache steps on the outputElement to make it available for the next call\n",
              "  // to uploadFilesContinue from Python.\n",
              "  outputElement.steps = steps;\n",
              "\n",
              "  return _uploadFilesContinue(outputId);\n",
              "}\n",
              "\n",
              "// This is roughly an async generator (not supported in the browser yet),\n",
              "// where there are multiple asynchronous steps and the Python side is going\n",
              "// to poll for completion of each step.\n",
              "// This uses a Promise to block the python side on completion of each step,\n",
              "// then passes the result of the previous step as the input to the next step.\n",
              "function _uploadFilesContinue(outputId) {\n",
              "  const outputElement = document.getElementById(outputId);\n",
              "  const steps = outputElement.steps;\n",
              "\n",
              "  const next = steps.next(outputElement.lastPromiseValue);\n",
              "  return Promise.resolve(next.value.promise).then((value) => {\n",
              "    // Cache the last promise value to make it available to the next\n",
              "    // step of the generator.\n",
              "    outputElement.lastPromiseValue = value;\n",
              "    return next.value.response;\n",
              "  });\n",
              "}\n",
              "\n",
              "/**\n",
              " * Generator function which is called between each async step of the upload\n",
              " * process.\n",
              " * @param {string} inputId Element ID of the input file picker element.\n",
              " * @param {string} outputId Element ID of the output display.\n",
              " * @return {!Iterable<!Object>} Iterable of next steps.\n",
              " */\n",
              "function* uploadFilesStep(inputId, outputId) {\n",
              "  const inputElement = document.getElementById(inputId);\n",
              "  inputElement.disabled = false;\n",
              "\n",
              "  const outputElement = document.getElementById(outputId);\n",
              "  outputElement.innerHTML = '';\n",
              "\n",
              "  const pickedPromise = new Promise((resolve) => {\n",
              "    inputElement.addEventListener('change', (e) => {\n",
              "      resolve(e.target.files);\n",
              "    });\n",
              "  });\n",
              "\n",
              "  const cancel = document.createElement('button');\n",
              "  inputElement.parentElement.appendChild(cancel);\n",
              "  cancel.textContent = 'Cancel upload';\n",
              "  const cancelPromise = new Promise((resolve) => {\n",
              "    cancel.onclick = () => {\n",
              "      resolve(null);\n",
              "    };\n",
              "  });\n",
              "\n",
              "  // Wait for the user to pick the files.\n",
              "  const files = yield {\n",
              "    promise: Promise.race([pickedPromise, cancelPromise]),\n",
              "    response: {\n",
              "      action: 'starting',\n",
              "    }\n",
              "  };\n",
              "\n",
              "  cancel.remove();\n",
              "\n",
              "  // Disable the input element since further picks are not allowed.\n",
              "  inputElement.disabled = true;\n",
              "\n",
              "  if (!files) {\n",
              "    return {\n",
              "      response: {\n",
              "        action: 'complete',\n",
              "      }\n",
              "    };\n",
              "  }\n",
              "\n",
              "  for (const file of files) {\n",
              "    const li = document.createElement('li');\n",
              "    li.append(span(file.name, {fontWeight: 'bold'}));\n",
              "    li.append(span(\n",
              "        `(${file.type || 'n/a'}) - ${file.size} bytes, ` +\n",
              "        `last modified: ${\n",
              "            file.lastModifiedDate ? file.lastModifiedDate.toLocaleDateString() :\n",
              "                                    'n/a'} - `));\n",
              "    const percent = span('0% done');\n",
              "    li.appendChild(percent);\n",
              "\n",
              "    outputElement.appendChild(li);\n",
              "\n",
              "    const fileDataPromise = new Promise((resolve) => {\n",
              "      const reader = new FileReader();\n",
              "      reader.onload = (e) => {\n",
              "        resolve(e.target.result);\n",
              "      };\n",
              "      reader.readAsArrayBuffer(file);\n",
              "    });\n",
              "    // Wait for the data to be ready.\n",
              "    let fileData = yield {\n",
              "      promise: fileDataPromise,\n",
              "      response: {\n",
              "        action: 'continue',\n",
              "      }\n",
              "    };\n",
              "\n",
              "    // Use a chunked sending to avoid message size limits. See b/62115660.\n",
              "    let position = 0;\n",
              "    do {\n",
              "      const length = Math.min(fileData.byteLength - position, MAX_PAYLOAD_SIZE);\n",
              "      const chunk = new Uint8Array(fileData, position, length);\n",
              "      position += length;\n",
              "\n",
              "      const base64 = btoa(String.fromCharCode.apply(null, chunk));\n",
              "      yield {\n",
              "        response: {\n",
              "          action: 'append',\n",
              "          file: file.name,\n",
              "          data: base64,\n",
              "        },\n",
              "      };\n",
              "\n",
              "      let percentDone = fileData.byteLength === 0 ?\n",
              "          100 :\n",
              "          Math.round((position / fileData.byteLength) * 100);\n",
              "      percent.textContent = `${percentDone}% done`;\n",
              "\n",
              "    } while (position < fileData.byteLength);\n",
              "  }\n",
              "\n",
              "  // All done.\n",
              "  yield {\n",
              "    response: {\n",
              "      action: 'complete',\n",
              "    }\n",
              "  };\n",
              "}\n",
              "\n",
              "scope.google = scope.google || {};\n",
              "scope.google.colab = scope.google.colab || {};\n",
              "scope.google.colab._files = {\n",
              "  _uploadFiles,\n",
              "  _uploadFilesContinue,\n",
              "};\n",
              "})(self);\n",
              "</script> "
            ]
          },
          "metadata": {}
        },
        {
          "output_type": "stream",
          "name": "stdout",
          "text": [
            "Saving trimet_stopevents_2022-12-07.html to trimet_stopevents_2022-12-07.html\n"
          ]
        }
      ]
    },
    {
      "cell_type": "code",
      "source": [
        "from bs4 import BeautifulSoup\n",
        "from io import StringIO\n",
        "\n",
        "with open('trimet_stopevents_2022-12-07.html', 'r') as file:\n",
        "    soup = BeautifulSoup(file, 'html.parser')\n",
        "\n"
      ],
      "metadata": {
        "id": "NtjRLz08aUtz"
      },
      "execution_count": null,
      "outputs": []
    },
    {
      "cell_type": "code",
      "source": [
        "from datetime import datetime, timedelta\n",
        "\n",
        "required_columns = {'trip_number', 'vehicle_number', 'arrive_time', 'location_id', 'ons', 'offs'}\n",
        "\n",
        "# Parse tables\n",
        "tables = soup.find_all('table')\n",
        "print(f\"Found {len(tables)} HTML <table> tags\")\n",
        "\n",
        "valid_dfs = []\n",
        "for i, table in enumerate(tables):\n",
        "    try:\n",
        "        df = pd.read_html(StringIO(str(table)))[0]\n",
        "        if required_columns.issubset(set(df.columns)):\n",
        "            valid_dfs.append(df)\n",
        "    except Exception:\n",
        "        continue\n",
        "\n",
        "# Combine all relevant tables\n",
        "if not valid_dfs:\n",
        "    raise ValueError(\"No valid stop event tables found.\")\n",
        "\n",
        "df = pd.concat(valid_dfs, ignore_index=True)\n",
        "print(f\"Total number of DataFrame has {len(df)} rows\")\n",
        "\n",
        "# Rename trip_number to trip_id\n",
        "df = df.rename(columns={'trip_number': 'trip_id'})\n",
        "\n",
        "\n",
        "base_date = datetime(2022, 12, 7)\n",
        "df['tstamp'] = df['arrive_time'].apply(lambda x: base_date + timedelta(seconds=int(x)))\n",
        "\n",
        "# Step 4: Create final DataFrame\n",
        "stops_df = df[['trip_id', 'vehicle_number', 'tstamp', 'location_id', 'ons', 'offs']]\n",
        "\n"
      ],
      "metadata": {
        "colab": {
          "base_uri": "https://localhost:8080/"
        },
        "id": "GMy3gGuxpVcv",
        "outputId": "8e70c568-7db6-45fb-b3ce-99eff10db3e5"
      },
      "execution_count": null,
      "outputs": [
        {
          "output_type": "stream",
          "name": "stdout",
          "text": [
            "Found 1442 HTML <table> tags\n",
            "Total number of DataFrame has 93912 rows\n"
          ]
        }
      ]
    },
    {
      "cell_type": "code",
      "source": [
        "\n",
        "# Analysis\n",
        "num_vehicles = stops_df['vehicle_number'].nunique()\n",
        "print(f\"Number of vehicles: {num_vehicles}\")\n"
      ],
      "metadata": {
        "colab": {
          "base_uri": "https://localhost:8080/"
        },
        "id": "0yx_Q60Njz9n",
        "outputId": "fb63a85a-586b-487e-f431-534468b383f1"
      },
      "execution_count": null,
      "outputs": [
        {
          "output_type": "stream",
          "name": "stdout",
          "text": [
            "Number of vehicles: 158\n"
          ]
        }
      ]
    },
    {
      "cell_type": "code",
      "source": [
        "\n",
        "num_locations = stops_df['location_id'].nunique()\n",
        "print(f\"Number of unique stop locations: {num_locations}\")\n",
        "\n"
      ],
      "metadata": {
        "colab": {
          "base_uri": "https://localhost:8080/"
        },
        "id": "YpUcCv6rCzmz",
        "outputId": "c091bf6a-d62a-4466-cf77-2fdc41fa4be5"
      },
      "execution_count": null,
      "outputs": [
        {
          "output_type": "stream",
          "name": "stdout",
          "text": [
            "Number of unique stop locations: 4354\n"
          ]
        }
      ]
    },
    {
      "cell_type": "code",
      "source": [
        "min_tstamp = stops_df['tstamp'].min()\n",
        "print(f\"Min timestamp: {min_tstamp}\")\n",
        "\n",
        "max_tstamp = stops_df['tstamp'].max()\n",
        "print(f\"Max timestamp: {max_tstamp}\")\n",
        "\n"
      ],
      "metadata": {
        "colab": {
          "base_uri": "https://localhost:8080/"
        },
        "id": "BzxHmJUtC3O7",
        "outputId": "c288c998-ddad-4fa2-ca65-671c7356141c"
      },
      "execution_count": null,
      "outputs": [
        {
          "output_type": "stream",
          "name": "stdout",
          "text": [
            "Min timestamp: 2022-12-07 04:02:29\n",
            "Max timestamp: 2022-12-08 02:37:41\n"
          ]
        }
      ]
    },
    {
      "cell_type": "code",
      "source": [
        "num_boarded = (stops_df['ons'] >= 1).sum()\n",
        "percent_boarded = (num_boarded / len(stops_df)) * 100\n",
        "\n",
        "print(f\"Stop events with at least one boarding: {num_boarded}\")\n",
        "print(f\"Percentage of stop events with boarding: {percent_boarded}%\")"
      ],
      "metadata": {
        "colab": {
          "base_uri": "https://localhost:8080/"
        },
        "id": "t74bYGFlC6gq",
        "outputId": "1ff4a198-554a-46b8-897f-9b07108bd75c"
      },
      "execution_count": null,
      "outputs": [
        {
          "output_type": "stream",
          "name": "stdout",
          "text": [
            "Stop events with at least one boarding: 19858\n",
            "Percentage of stop events with boarding: 21.14532754067638%\n"
          ]
        }
      ]
    },
    {
      "cell_type": "code",
      "source": [
        "location_id = 6913\n",
        "location_df = stops_df[stops_df['location_id'] == location_id]\n",
        "\n",
        "num_stops_at_location = len(location_df)\n",
        "print(f\"Total stops: {num_stops_at_location}\")\n"
      ],
      "metadata": {
        "colab": {
          "base_uri": "https://localhost:8080/"
        },
        "id": "joSBNAPirv_t",
        "outputId": "615821e1-bf8d-4889-a2e3-f3d9a462aece"
      },
      "execution_count": null,
      "outputs": [
        {
          "output_type": "stream",
          "name": "stdout",
          "text": [
            "Total stops: 15\n"
          ]
        }
      ]
    },
    {
      "cell_type": "code",
      "source": [
        "buses_at_location = location_df['vehicle_number'].nunique()\n",
        "print(f\"Unique buses: {buses_at_location}\")\n"
      ],
      "metadata": {
        "colab": {
          "base_uri": "https://localhost:8080/"
        },
        "id": "qkd3_awJsHBw",
        "outputId": "37102548-ec54-4dd6-ab0f-a93cfdee13ba"
      },
      "execution_count": null,
      "outputs": [
        {
          "output_type": "stream",
          "name": "stdout",
          "text": [
            "Unique buses: 5\n"
          ]
        }
      ]
    },
    {
      "cell_type": "code",
      "source": [
        "num_with_boarding = (location_df['ons'] >= 1).sum()\n",
        "percent_with_boarding = (num_with_boarding / num_stops_at_location) * 100\n",
        "print(f\"Stops with at least one boarding: {num_with_boarding}\")\n",
        "print(f\"Percentage with boarding: {percent_with_boarding}%\")"
      ],
      "metadata": {
        "colab": {
          "base_uri": "https://localhost:8080/"
        },
        "id": "xCrQx-ufsU-l",
        "outputId": "d3670719-a264-4938-88da-e0cf85f4da86"
      },
      "execution_count": null,
      "outputs": [
        {
          "output_type": "stream",
          "name": "stdout",
          "text": [
            "Stops with at least one boarding: 2\n",
            "Percentage with boarding: 13.333333333333334%\n"
          ]
        }
      ]
    },
    {
      "cell_type": "code",
      "source": [
        "vehicle_id = 4062\n",
        "vehicle_df = stops_df[stops_df['vehicle_number'] == vehicle_id]\n",
        "num_stops_by_vehicle = len(vehicle_df)\n",
        "\n",
        "print(f\"Total stops: {num_stops_by_vehicle}\")\n"
      ],
      "metadata": {
        "colab": {
          "base_uri": "https://localhost:8080/"
        },
        "id": "fP6Y3SCysm4h",
        "outputId": "f3a5f9cb-81da-47f8-a64b-58bcd4c15423"
      },
      "execution_count": null,
      "outputs": [
        {
          "output_type": "stream",
          "name": "stdout",
          "text": [
            "Total stops: 68\n"
          ]
        }
      ]
    },
    {
      "cell_type": "code",
      "source": [
        "total_boarded = vehicle_df['ons'].sum()\n",
        "print(f\"Total passengers boarded: {total_boarded}\")"
      ],
      "metadata": {
        "colab": {
          "base_uri": "https://localhost:8080/"
        },
        "id": "LjzH033Ss0oM",
        "outputId": "a43bfb88-b66f-4a4c-bac6-5a3f72ae4e38"
      },
      "execution_count": null,
      "outputs": [
        {
          "output_type": "stream",
          "name": "stdout",
          "text": [
            "Total passengers boarded: 26\n"
          ]
        }
      ]
    },
    {
      "cell_type": "code",
      "source": [
        "total_deboarded = vehicle_df['offs'].sum()\n",
        "print(f\"Total passengers deboarded: {total_deboarded}\")"
      ],
      "metadata": {
        "colab": {
          "base_uri": "https://localhost:8080/"
        },
        "id": "MqE5UKKKs8fB",
        "outputId": "a019c8df-ba88-40f4-e470-bd8e55e2c528"
      },
      "execution_count": null,
      "outputs": [
        {
          "output_type": "stream",
          "name": "stdout",
          "text": [
            "Total passengers deboarded: 26\n"
          ]
        }
      ]
    },
    {
      "cell_type": "code",
      "source": [
        "num_vehicle_boarding = (vehicle_df['ons'] >= 1).sum()\n",
        "percent_vehicle_boarding = (num_vehicle_boarding / num_stops_by_vehicle) * 100\n",
        "print(f\"Percentage of stops with boarding: {percent_vehicle_boarding}%\")"
      ],
      "metadata": {
        "colab": {
          "base_uri": "https://localhost:8080/"
        },
        "id": "X18CbdAitP_O",
        "outputId": "893002d1-a5a6-4a07-d930-2aa11a44e4bf"
      },
      "execution_count": null,
      "outputs": [
        {
          "output_type": "stream",
          "name": "stdout",
          "text": [
            "Percentage of stops with boarding: 16.176470588235293%\n"
          ]
        }
      ]
    },
    {
      "cell_type": "code",
      "source": [
        "!pip install scipy"
      ],
      "metadata": {
        "colab": {
          "base_uri": "https://localhost:8080/"
        },
        "id": "k2z_01nnuoED",
        "outputId": "277a3e5a-30f3-4d4b-ff3c-1f6f54193eb4"
      },
      "execution_count": null,
      "outputs": [
        {
          "output_type": "stream",
          "name": "stdout",
          "text": [
            "Requirement already satisfied: scipy in /usr/local/lib/python3.11/dist-packages (1.15.3)\n",
            "Requirement already satisfied: numpy<2.5,>=1.23.5 in /usr/local/lib/python3.11/dist-packages (from scipy) (2.0.2)\n"
          ]
        }
      ]
    },
    {
      "cell_type": "code",
      "source": [
        "from scipy.stats import binomtest"
      ],
      "metadata": {
        "id": "Ak6BeHNrua7r"
      },
      "execution_count": null,
      "outputs": []
    },
    {
      "cell_type": "code",
      "source": [
        "total_events = len(stops_df)\n",
        "total_boarded_events = (stops_df['ons'] >= 1).sum()\n",
        "system_boarding_rate = total_boarded_events / total_events\n",
        "print(f\"System-wide boarding rate: {system_boarding_rate}\")\n"
      ],
      "metadata": {
        "colab": {
          "base_uri": "https://localhost:8080/"
        },
        "id": "2nZpwP6Mu_XV",
        "outputId": "98780fd9-e356-48ab-8108-d9df5fc1ea93"
      },
      "execution_count": null,
      "outputs": [
        {
          "output_type": "stream",
          "name": "stdout",
          "text": [
            "System-wide boarding rate: 0.21145327540676379\n"
          ]
        }
      ]
    },
    {
      "cell_type": "code",
      "source": [
        "vehicle_stats = stops_df.groupby('vehicle_number').agg(\n",
        "    total_stops=('ons', 'count'),\n",
        "    stops_with_boarding=('ons', lambda x: (x >= 1).sum())\n",
        ").reset_index()\n",
        "vehicle_stats['total_stops'] = vehicle_stats['total_stops'].astype(int)\n",
        "vehicle_stats['stops_with_boarding'] = vehicle_stats['stops_with_boarding'].astype(int)\n",
        "\n",
        "vehicle_stats['boarding_rate'] = vehicle_stats['stops_with_boarding'] / vehicle_stats['total_stops']\n",
        "vehicle_stats['p_value'] = vehicle_stats.apply(\n",
        "    lambda row: binomtest(\n",
        "        int(row['stops_with_boarding']),\n",
        "        int(row['total_stops']),\n",
        "        system_boarding_rate,\n",
        "        alternative='two-sided'\n",
        "    ).pvalue,\n",
        "    axis=1\n",
        ")\n",
        "biased_vehicles = vehicle_stats[vehicle_stats['p_value'] < 0.05].sort_values('p_value')\n",
        "print(f\"Vehicles with biased boarding patterns (p < 0.05):\")\n",
        "print(biased_vehicles[['vehicle_number', 'boarding_rate', 'p_value']])"
      ],
      "metadata": {
        "colab": {
          "base_uri": "https://localhost:8080/"
        },
        "id": "KzPIEaNXvGob",
        "outputId": "d64da03f-9b6d-424d-eac6-2b4dbe62a590"
      },
      "execution_count": null,
      "outputs": [
        {
          "output_type": "stream",
          "name": "stdout",
          "text": [
            "Vehicles with biased boarding patterns (p < 0.05):\n",
            "     vehicle_number  boarding_rate   p_value\n",
            "113            3915       0.173716  0.017249\n",
            "70             3530       0.173611  0.028077\n",
            "125            3963       0.167901  0.033011\n",
            "103            3733       0.180536  0.043074\n",
            "88             3634       0.171149  0.045715\n"
          ]
        }
      ]
    },
    {
      "cell_type": "code",
      "source": [
        "uploaded = files.upload()"
      ],
      "metadata": {
        "colab": {
          "base_uri": "https://localhost:8080/",
          "height": 73
        },
        "id": "Ba_81vjjwWdF",
        "outputId": "a0bb4feb-c57e-47b4-b62b-292a5546b5cd"
      },
      "execution_count": null,
      "outputs": [
        {
          "output_type": "display_data",
          "data": {
            "text/plain": [
              "<IPython.core.display.HTML object>"
            ],
            "text/html": [
              "\n",
              "     <input type=\"file\" id=\"files-c368a610-2b1f-461c-8cad-e456b1855d2b\" name=\"files[]\" multiple disabled\n",
              "        style=\"border:none\" />\n",
              "     <output id=\"result-c368a610-2b1f-461c-8cad-e456b1855d2b\">\n",
              "      Upload widget is only available when the cell has been executed in the\n",
              "      current browser session. Please rerun this cell to enable.\n",
              "      </output>\n",
              "      <script>// Copyright 2017 Google LLC\n",
              "//\n",
              "// Licensed under the Apache License, Version 2.0 (the \"License\");\n",
              "// you may not use this file except in compliance with the License.\n",
              "// You may obtain a copy of the License at\n",
              "//\n",
              "//      http://www.apache.org/licenses/LICENSE-2.0\n",
              "//\n",
              "// Unless required by applicable law or agreed to in writing, software\n",
              "// distributed under the License is distributed on an \"AS IS\" BASIS,\n",
              "// WITHOUT WARRANTIES OR CONDITIONS OF ANY KIND, either express or implied.\n",
              "// See the License for the specific language governing permissions and\n",
              "// limitations under the License.\n",
              "\n",
              "/**\n",
              " * @fileoverview Helpers for google.colab Python module.\n",
              " */\n",
              "(function(scope) {\n",
              "function span(text, styleAttributes = {}) {\n",
              "  const element = document.createElement('span');\n",
              "  element.textContent = text;\n",
              "  for (const key of Object.keys(styleAttributes)) {\n",
              "    element.style[key] = styleAttributes[key];\n",
              "  }\n",
              "  return element;\n",
              "}\n",
              "\n",
              "// Max number of bytes which will be uploaded at a time.\n",
              "const MAX_PAYLOAD_SIZE = 100 * 1024;\n",
              "\n",
              "function _uploadFiles(inputId, outputId) {\n",
              "  const steps = uploadFilesStep(inputId, outputId);\n",
              "  const outputElement = document.getElementById(outputId);\n",
              "  // Cache steps on the outputElement to make it available for the next call\n",
              "  // to uploadFilesContinue from Python.\n",
              "  outputElement.steps = steps;\n",
              "\n",
              "  return _uploadFilesContinue(outputId);\n",
              "}\n",
              "\n",
              "// This is roughly an async generator (not supported in the browser yet),\n",
              "// where there are multiple asynchronous steps and the Python side is going\n",
              "// to poll for completion of each step.\n",
              "// This uses a Promise to block the python side on completion of each step,\n",
              "// then passes the result of the previous step as the input to the next step.\n",
              "function _uploadFilesContinue(outputId) {\n",
              "  const outputElement = document.getElementById(outputId);\n",
              "  const steps = outputElement.steps;\n",
              "\n",
              "  const next = steps.next(outputElement.lastPromiseValue);\n",
              "  return Promise.resolve(next.value.promise).then((value) => {\n",
              "    // Cache the last promise value to make it available to the next\n",
              "    // step of the generator.\n",
              "    outputElement.lastPromiseValue = value;\n",
              "    return next.value.response;\n",
              "  });\n",
              "}\n",
              "\n",
              "/**\n",
              " * Generator function which is called between each async step of the upload\n",
              " * process.\n",
              " * @param {string} inputId Element ID of the input file picker element.\n",
              " * @param {string} outputId Element ID of the output display.\n",
              " * @return {!Iterable<!Object>} Iterable of next steps.\n",
              " */\n",
              "function* uploadFilesStep(inputId, outputId) {\n",
              "  const inputElement = document.getElementById(inputId);\n",
              "  inputElement.disabled = false;\n",
              "\n",
              "  const outputElement = document.getElementById(outputId);\n",
              "  outputElement.innerHTML = '';\n",
              "\n",
              "  const pickedPromise = new Promise((resolve) => {\n",
              "    inputElement.addEventListener('change', (e) => {\n",
              "      resolve(e.target.files);\n",
              "    });\n",
              "  });\n",
              "\n",
              "  const cancel = document.createElement('button');\n",
              "  inputElement.parentElement.appendChild(cancel);\n",
              "  cancel.textContent = 'Cancel upload';\n",
              "  const cancelPromise = new Promise((resolve) => {\n",
              "    cancel.onclick = () => {\n",
              "      resolve(null);\n",
              "    };\n",
              "  });\n",
              "\n",
              "  // Wait for the user to pick the files.\n",
              "  const files = yield {\n",
              "    promise: Promise.race([pickedPromise, cancelPromise]),\n",
              "    response: {\n",
              "      action: 'starting',\n",
              "    }\n",
              "  };\n",
              "\n",
              "  cancel.remove();\n",
              "\n",
              "  // Disable the input element since further picks are not allowed.\n",
              "  inputElement.disabled = true;\n",
              "\n",
              "  if (!files) {\n",
              "    return {\n",
              "      response: {\n",
              "        action: 'complete',\n",
              "      }\n",
              "    };\n",
              "  }\n",
              "\n",
              "  for (const file of files) {\n",
              "    const li = document.createElement('li');\n",
              "    li.append(span(file.name, {fontWeight: 'bold'}));\n",
              "    li.append(span(\n",
              "        `(${file.type || 'n/a'}) - ${file.size} bytes, ` +\n",
              "        `last modified: ${\n",
              "            file.lastModifiedDate ? file.lastModifiedDate.toLocaleDateString() :\n",
              "                                    'n/a'} - `));\n",
              "    const percent = span('0% done');\n",
              "    li.appendChild(percent);\n",
              "\n",
              "    outputElement.appendChild(li);\n",
              "\n",
              "    const fileDataPromise = new Promise((resolve) => {\n",
              "      const reader = new FileReader();\n",
              "      reader.onload = (e) => {\n",
              "        resolve(e.target.result);\n",
              "      };\n",
              "      reader.readAsArrayBuffer(file);\n",
              "    });\n",
              "    // Wait for the data to be ready.\n",
              "    let fileData = yield {\n",
              "      promise: fileDataPromise,\n",
              "      response: {\n",
              "        action: 'continue',\n",
              "      }\n",
              "    };\n",
              "\n",
              "    // Use a chunked sending to avoid message size limits. See b/62115660.\n",
              "    let position = 0;\n",
              "    do {\n",
              "      const length = Math.min(fileData.byteLength - position, MAX_PAYLOAD_SIZE);\n",
              "      const chunk = new Uint8Array(fileData, position, length);\n",
              "      position += length;\n",
              "\n",
              "      const base64 = btoa(String.fromCharCode.apply(null, chunk));\n",
              "      yield {\n",
              "        response: {\n",
              "          action: 'append',\n",
              "          file: file.name,\n",
              "          data: base64,\n",
              "        },\n",
              "      };\n",
              "\n",
              "      let percentDone = fileData.byteLength === 0 ?\n",
              "          100 :\n",
              "          Math.round((position / fileData.byteLength) * 100);\n",
              "      percent.textContent = `${percentDone}% done`;\n",
              "\n",
              "    } while (position < fileData.byteLength);\n",
              "  }\n",
              "\n",
              "  // All done.\n",
              "  yield {\n",
              "    response: {\n",
              "      action: 'complete',\n",
              "    }\n",
              "  };\n",
              "}\n",
              "\n",
              "scope.google = scope.google || {};\n",
              "scope.google.colab = scope.google.colab || {};\n",
              "scope.google.colab._files = {\n",
              "  _uploadFiles,\n",
              "  _uploadFilesContinue,\n",
              "};\n",
              "})(self);\n",
              "</script> "
            ]
          },
          "metadata": {}
        },
        {
          "output_type": "stream",
          "name": "stdout",
          "text": [
            "Saving trimet_relpos_2022-12-07.csv to trimet_relpos_2022-12-07.csv\n"
          ]
        }
      ]
    },
    {
      "cell_type": "code",
      "source": [
        "from scipy.stats import ttest_ind\n"
      ],
      "metadata": {
        "id": "nfJ2pUa4AV04"
      },
      "execution_count": null,
      "outputs": []
    },
    {
      "cell_type": "code",
      "source": [
        "gps_df = pd.read_csv(\"trimet_relpos_2022-12-07.csv\")\n",
        "print(gps_df.columns)\n",
        "\n",
        "all_relpos = gps_df['RELPOS'].dropna().values  # remove missing if any\n",
        "\n",
        "# Step 2: Group by vehicle\n",
        "vehicle_groups = gps_df.dropna(subset=['RELPOS']).groupby('VEHICLE_NUMBER')\n",
        "\n",
        "results = []\n",
        "\n",
        "# Step 3: For each vehicle, run a t-test comparing its RELPOS values to overall\n",
        "for vehicle_id, group in vehicle_groups:\n",
        "    vehicle_relpos = group['RELPOS'].values\n",
        "    if len(vehicle_relpos) >= 5:  # minimum data to be statistically valid\n",
        "        t_stat, p_val = ttest_ind(vehicle_relpos, all_relpos, equal_var=False)\n",
        "        results.append((vehicle_id, p_val))\n",
        "\n",
        "# Step 4: Filter biased vehicles (p < 0.005)\n",
        "biased_gps_vehicles = pd.DataFrame(results, columns=['VEHICLE_NUMBER', 'p_value'])\n",
        "biased_gps_vehicles = biased_gps_vehicles[biased_gps_vehicles['p_value'] < 0.005].sort_values('p_value')\n",
        "\n",
        "# Show results\n",
        "print(\"Vehicles with GPS bias (p < 0.005):\")\n",
        "print(biased_gps_vehicles)"
      ],
      "metadata": {
        "colab": {
          "base_uri": "https://localhost:8080/"
        },
        "id": "sLBXP0AwAdFV",
        "outputId": "65a834e5-9127-4f9b-e21e-04d49a3542ec"
      },
      "execution_count": null,
      "outputs": [
        {
          "output_type": "stream",
          "name": "stdout",
          "text": [
            "Index(['TIMESTAMP', 'VEHICLE_NUMBER', 'RELPOS'], dtype='object')\n",
            "Vehicles with GPS bias (p < 0.005):\n",
            "     VEHICLE_NUMBER   p_value\n",
            "90             3638  0.000000\n",
            "109            3804  0.000000\n",
            "157            4305  0.000000\n",
            "132            4024  0.004008\n"
          ]
        }
      ]
    },
    {
      "cell_type": "code",
      "source": [
        "from scipy.stats import chi2_contingency\n"
      ],
      "metadata": {
        "id": "HTfDXW0uBzsp"
      },
      "execution_count": null,
      "outputs": []
    },
    {
      "cell_type": "code",
      "source": [
        "total_ons = stops_df['ons'].sum()\n",
        "total_offs = stops_df['offs'].sum()\n",
        "\n",
        "# Step 2: Group by vehicle\n",
        "vehicle_totals = stops_df.groupby('vehicle_number').agg(\n",
        "    vehicle_ons=('ons', 'sum'),\n",
        "    vehicle_offs=('offs', 'sum')\n",
        ").reset_index()\n",
        "\n",
        "# Step 3: Apply Chi-squared test for each vehicle\n",
        "results = []\n",
        "for _, row in vehicle_totals.iterrows():\n",
        "    vehicle_ons = row['vehicle_ons']\n",
        "    vehicle_offs = row['vehicle_offs']\n",
        "\n",
        "    # Create 2x2 contingency table\n",
        "    contingency = [\n",
        "        [vehicle_ons, vehicle_offs],\n",
        "        [total_ons - vehicle_ons, total_offs - vehicle_offs]\n",
        "    ]\n",
        "\n",
        "    chi2, p, dof, expected = chi2_contingency(contingency)\n",
        "    results.append((row['vehicle_number'], p))\n",
        "\n",
        "# Step 4: Filter for significant bias (p < 0.05)\n",
        "biased_boarding = pd.DataFrame(results, columns=['vehicle_number', 'p_value'])\n",
        "biased_boarding = biased_boarding[biased_boarding['p_value'] < 0.05].sort_values('p_value')\n",
        "\n",
        "# Show result\n",
        "print(\"Vehicles with biased boarding/deboarding ratios (p < 0.05):\")\n",
        "print(biased_boarding)"
      ],
      "metadata": {
        "colab": {
          "base_uri": "https://localhost:8080/"
        },
        "id": "6JDrWZlcB4OP",
        "outputId": "f2b8977b-a6ca-4533-944c-434043e03794"
      },
      "execution_count": null,
      "outputs": [
        {
          "output_type": "stream",
          "name": "stdout",
          "text": [
            "Vehicles with biased boarding/deboarding ratios (p < 0.05):\n",
            "    vehicle_number   p_value\n",
            "78            3576  0.018783\n",
            "28            3056  0.030134\n"
          ]
        }
      ]
    }
  ]
}