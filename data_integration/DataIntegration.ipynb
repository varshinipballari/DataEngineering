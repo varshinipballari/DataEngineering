{
  "nbformat": 4,
  "nbformat_minor": 0,
  "metadata": {
    "colab": {
      "provenance": []
    },
    "kernelspec": {
      "name": "python3",
      "display_name": "Python 3"
    },
    "language_info": {
      "name": "python"
    }
  },
  "cells": [
    {
      "cell_type": "code",
      "execution_count": 1,
      "metadata": {
        "id": "6ppgJAkYs1OU"
      },
      "outputs": [],
      "source": [
        "import pandas as pd\n",
        "import csv\n",
        "from google.colab import files\n"
      ]
    },
    {
      "cell_type": "code",
      "source": [
        "uploaded = files.upload()"
      ],
      "metadata": {
        "colab": {
          "base_uri": "https://localhost:8080/",
          "height": 144
        },
        "id": "HeKZSK6GtHsP",
        "outputId": "60c3aa2c-4a7b-4705-a535-de60c1b3668e"
      },
      "execution_count": 2,
      "outputs": [
        {
          "output_type": "display_data",
          "data": {
            "text/plain": [
              "<IPython.core.display.HTML object>"
            ],
            "text/html": [
              "\n",
              "     <input type=\"file\" id=\"files-23d5936e-00fb-4217-befd-038dbf796cb4\" name=\"files[]\" multiple disabled\n",
              "        style=\"border:none\" />\n",
              "     <output id=\"result-23d5936e-00fb-4217-befd-038dbf796cb4\">\n",
              "      Upload widget is only available when the cell has been executed in the\n",
              "      current browser session. Please rerun this cell to enable.\n",
              "      </output>\n",
              "      <script>// Copyright 2017 Google LLC\n",
              "//\n",
              "// Licensed under the Apache License, Version 2.0 (the \"License\");\n",
              "// you may not use this file except in compliance with the License.\n",
              "// You may obtain a copy of the License at\n",
              "//\n",
              "//      http://www.apache.org/licenses/LICENSE-2.0\n",
              "//\n",
              "// Unless required by applicable law or agreed to in writing, software\n",
              "// distributed under the License is distributed on an \"AS IS\" BASIS,\n",
              "// WITHOUT WARRANTIES OR CONDITIONS OF ANY KIND, either express or implied.\n",
              "// See the License for the specific language governing permissions and\n",
              "// limitations under the License.\n",
              "\n",
              "/**\n",
              " * @fileoverview Helpers for google.colab Python module.\n",
              " */\n",
              "(function(scope) {\n",
              "function span(text, styleAttributes = {}) {\n",
              "  const element = document.createElement('span');\n",
              "  element.textContent = text;\n",
              "  for (const key of Object.keys(styleAttributes)) {\n",
              "    element.style[key] = styleAttributes[key];\n",
              "  }\n",
              "  return element;\n",
              "}\n",
              "\n",
              "// Max number of bytes which will be uploaded at a time.\n",
              "const MAX_PAYLOAD_SIZE = 100 * 1024;\n",
              "\n",
              "function _uploadFiles(inputId, outputId) {\n",
              "  const steps = uploadFilesStep(inputId, outputId);\n",
              "  const outputElement = document.getElementById(outputId);\n",
              "  // Cache steps on the outputElement to make it available for the next call\n",
              "  // to uploadFilesContinue from Python.\n",
              "  outputElement.steps = steps;\n",
              "\n",
              "  return _uploadFilesContinue(outputId);\n",
              "}\n",
              "\n",
              "// This is roughly an async generator (not supported in the browser yet),\n",
              "// where there are multiple asynchronous steps and the Python side is going\n",
              "// to poll for completion of each step.\n",
              "// This uses a Promise to block the python side on completion of each step,\n",
              "// then passes the result of the previous step as the input to the next step.\n",
              "function _uploadFilesContinue(outputId) {\n",
              "  const outputElement = document.getElementById(outputId);\n",
              "  const steps = outputElement.steps;\n",
              "\n",
              "  const next = steps.next(outputElement.lastPromiseValue);\n",
              "  return Promise.resolve(next.value.promise).then((value) => {\n",
              "    // Cache the last promise value to make it available to the next\n",
              "    // step of the generator.\n",
              "    outputElement.lastPromiseValue = value;\n",
              "    return next.value.response;\n",
              "  });\n",
              "}\n",
              "\n",
              "/**\n",
              " * Generator function which is called between each async step of the upload\n",
              " * process.\n",
              " * @param {string} inputId Element ID of the input file picker element.\n",
              " * @param {string} outputId Element ID of the output display.\n",
              " * @return {!Iterable<!Object>} Iterable of next steps.\n",
              " */\n",
              "function* uploadFilesStep(inputId, outputId) {\n",
              "  const inputElement = document.getElementById(inputId);\n",
              "  inputElement.disabled = false;\n",
              "\n",
              "  const outputElement = document.getElementById(outputId);\n",
              "  outputElement.innerHTML = '';\n",
              "\n",
              "  const pickedPromise = new Promise((resolve) => {\n",
              "    inputElement.addEventListener('change', (e) => {\n",
              "      resolve(e.target.files);\n",
              "    });\n",
              "  });\n",
              "\n",
              "  const cancel = document.createElement('button');\n",
              "  inputElement.parentElement.appendChild(cancel);\n",
              "  cancel.textContent = 'Cancel upload';\n",
              "  const cancelPromise = new Promise((resolve) => {\n",
              "    cancel.onclick = () => {\n",
              "      resolve(null);\n",
              "    };\n",
              "  });\n",
              "\n",
              "  // Wait for the user to pick the files.\n",
              "  const files = yield {\n",
              "    promise: Promise.race([pickedPromise, cancelPromise]),\n",
              "    response: {\n",
              "      action: 'starting',\n",
              "    }\n",
              "  };\n",
              "\n",
              "  cancel.remove();\n",
              "\n",
              "  // Disable the input element since further picks are not allowed.\n",
              "  inputElement.disabled = true;\n",
              "\n",
              "  if (!files) {\n",
              "    return {\n",
              "      response: {\n",
              "        action: 'complete',\n",
              "      }\n",
              "    };\n",
              "  }\n",
              "\n",
              "  for (const file of files) {\n",
              "    const li = document.createElement('li');\n",
              "    li.append(span(file.name, {fontWeight: 'bold'}));\n",
              "    li.append(span(\n",
              "        `(${file.type || 'n/a'}) - ${file.size} bytes, ` +\n",
              "        `last modified: ${\n",
              "            file.lastModifiedDate ? file.lastModifiedDate.toLocaleDateString() :\n",
              "                                    'n/a'} - `));\n",
              "    const percent = span('0% done');\n",
              "    li.appendChild(percent);\n",
              "\n",
              "    outputElement.appendChild(li);\n",
              "\n",
              "    const fileDataPromise = new Promise((resolve) => {\n",
              "      const reader = new FileReader();\n",
              "      reader.onload = (e) => {\n",
              "        resolve(e.target.result);\n",
              "      };\n",
              "      reader.readAsArrayBuffer(file);\n",
              "    });\n",
              "    // Wait for the data to be ready.\n",
              "    let fileData = yield {\n",
              "      promise: fileDataPromise,\n",
              "      response: {\n",
              "        action: 'continue',\n",
              "      }\n",
              "    };\n",
              "\n",
              "    // Use a chunked sending to avoid message size limits. See b/62115660.\n",
              "    let position = 0;\n",
              "    do {\n",
              "      const length = Math.min(fileData.byteLength - position, MAX_PAYLOAD_SIZE);\n",
              "      const chunk = new Uint8Array(fileData, position, length);\n",
              "      position += length;\n",
              "\n",
              "      const base64 = btoa(String.fromCharCode.apply(null, chunk));\n",
              "      yield {\n",
              "        response: {\n",
              "          action: 'append',\n",
              "          file: file.name,\n",
              "          data: base64,\n",
              "        },\n",
              "      };\n",
              "\n",
              "      let percentDone = fileData.byteLength === 0 ?\n",
              "          100 :\n",
              "          Math.round((position / fileData.byteLength) * 100);\n",
              "      percent.textContent = `${percentDone}% done`;\n",
              "\n",
              "    } while (position < fileData.byteLength);\n",
              "  }\n",
              "\n",
              "  // All done.\n",
              "  yield {\n",
              "    response: {\n",
              "      action: 'complete',\n",
              "    }\n",
              "  };\n",
              "}\n",
              "\n",
              "scope.google = scope.google || {};\n",
              "scope.google.colab = scope.google.colab || {};\n",
              "scope.google.colab._files = {\n",
              "  _uploadFiles,\n",
              "  _uploadFilesContinue,\n",
              "};\n",
              "})(self);\n",
              "</script> "
            ]
          },
          "metadata": {}
        },
        {
          "output_type": "stream",
          "name": "stdout",
          "text": [
            "Saving acs2017_county_data.csv to acs2017_county_data.csv\n",
            "Saving covid_deaths_usafacts.csv to covid_deaths_usafacts.csv\n",
            "Saving covid_confirmed_usafacts.csv to covid_confirmed_usafacts.csv\n"
          ]
        }
      ]
    },
    {
      "cell_type": "code",
      "source": [
        "cases_df = pd.read_csv(\"covid_confirmed_usafacts.csv\")\n",
        "deaths_df = pd.read_csv(\"covid_deaths_usafacts.csv\")\n",
        "census_df = pd.read_csv(\"acs2017_county_data.csv\")"
      ],
      "metadata": {
        "id": "Tel4BtCctcJQ"
      },
      "execution_count": 3,
      "outputs": []
    },
    {
      "cell_type": "code",
      "source": [
        "cases_df = cases_df[[\"County Name\", \"State\", \"2023-07-23\"]]\n",
        "deaths_df = deaths_df[[\"County Name\", \"State\", \"2023-07-23\"]]"
      ],
      "metadata": {
        "id": "q9U7WHsAt4hP"
      },
      "execution_count": 4,
      "outputs": []
    },
    {
      "cell_type": "code",
      "source": [
        "census_df = census_df[[\"County\", \"State\", \"TotalPop\", \"IncomePerCap\", \"Poverty\", \"Unemployment\"]]\n"
      ],
      "metadata": {
        "id": "KdKrHSheuG6f"
      },
      "execution_count": 5,
      "outputs": []
    },
    {
      "cell_type": "code",
      "source": [
        "print(\"cases_df columns:\", cases_df.columns.tolist())\n",
        "print(\"deaths_df columns:\", deaths_df.columns.tolist())\n",
        "print(\"census_df columns:\", census_df.columns.tolist())"
      ],
      "metadata": {
        "colab": {
          "base_uri": "https://localhost:8080/"
        },
        "id": "g7BIbjy4uN9t",
        "outputId": "05eea88d-ccd4-40b7-961f-d77ffc3c4df1"
      },
      "execution_count": 6,
      "outputs": [
        {
          "output_type": "stream",
          "name": "stdout",
          "text": [
            "cases_df columns: ['County Name', 'State', '2023-07-23']\n",
            "deaths_df columns: ['County Name', 'State', '2023-07-23']\n",
            "census_df columns: ['County', 'State', 'TotalPop', 'IncomePerCap', 'Poverty', 'Unemployment']\n"
          ]
        }
      ]
    },
    {
      "cell_type": "code",
      "source": [
        "cases_df[\"County Name\"] = cases_df[\"County Name\"].str.strip()\n",
        "deaths_df[\"County Name\"] = deaths_df[\"County Name\"].str.strip()"
      ],
      "metadata": {
        "id": "JlgwgZA7ubUX"
      },
      "execution_count": 7,
      "outputs": []
    },
    {
      "cell_type": "code",
      "source": [
        "washington_cases = cases_df[cases_df[\"County Name\"] == \"Washington County\"]\n",
        "print(\"Washington County in cases:\", len(washington_cases))\n",
        "\n",
        "washington_deaths = deaths_df[deaths_df[\"County Name\"] == \"Washington County\"]\n",
        "print(\"Washington County in deaths:\", len(washington_deaths))"
      ],
      "metadata": {
        "colab": {
          "base_uri": "https://localhost:8080/"
        },
        "id": "Fx2FbnFIucZa",
        "outputId": "6887c4f0-19de-4394-ecc5-0a34653e0a67"
      },
      "execution_count": 8,
      "outputs": [
        {
          "output_type": "stream",
          "name": "stdout",
          "text": [
            "Washington County in cases: 30\n",
            "Washington County in deaths: 30\n"
          ]
        }
      ]
    },
    {
      "cell_type": "code",
      "source": [
        "cases_df = cases_df[cases_df[\"County Name\"] != \"Statewide Unallocated\"]\n",
        "deaths_df = deaths_df[deaths_df[\"County Name\"] != \"Statewide Unallocated\"]\n",
        "print(\"Remaining rows in cases:\", len(cases_df))\n",
        "print(\"Remaining rows in deaths:\", len(deaths_df))"
      ],
      "metadata": {
        "colab": {
          "base_uri": "https://localhost:8080/"
        },
        "id": "Iackrv1gwRxQ",
        "outputId": "def65251-2a19-4cb3-9593-54c110fdb05e"
      },
      "execution_count": 9,
      "outputs": [
        {
          "output_type": "stream",
          "name": "stdout",
          "text": [
            "Remaining rows in cases: 3142\n",
            "Remaining rows in deaths: 3142\n"
          ]
        }
      ]
    },
    {
      "cell_type": "code",
      "source": [
        "us_state_to_abbrev = {\n",
        "    \"Alabama\": \"AL\",\n",
        "    \"Alaska\": \"AK\",\n",
        "    \"Arizona\": \"AZ\",\n",
        "    \"Arkansas\": \"AR\",\n",
        "    \"California\": \"CA\",\n",
        "    \"Colorado\": \"CO\",\n",
        "    \"Connecticut\": \"CT\",\n",
        "    \"Delaware\": \"DE\",\n",
        "    \"Florida\": \"FL\",\n",
        "    \"Georgia\": \"GA\",\n",
        "    \"Hawaii\": \"HI\",\n",
        "    \"Idaho\": \"ID\",\n",
        "    \"Illinois\": \"IL\",\n",
        "    \"Indiana\": \"IN\",\n",
        "    \"Iowa\": \"IA\",\n",
        "    \"Kansas\": \"KS\",\n",
        "    \"Kentucky\": \"KY\",\n",
        "    \"Louisiana\": \"LA\",\n",
        "    \"Maine\": \"ME\",\n",
        "    \"Maryland\": \"MD\",\n",
        "    \"Massachusetts\": \"MA\",\n",
        "    \"Michigan\": \"MI\",\n",
        "    \"Minnesota\": \"MN\",\n",
        "    \"Mississippi\": \"MS\",\n",
        "    \"Missouri\": \"MO\",\n",
        "    \"Montana\": \"MT\",\n",
        "    \"Nebraska\": \"NE\",\n",
        "    \"Nevada\": \"NV\",\n",
        "    \"New Hampshire\": \"NH\",\n",
        "    \"New Jersey\": \"NJ\",\n",
        "    \"New Mexico\": \"NM\",\n",
        "    \"New York\": \"NY\",\n",
        "    \"North Carolina\": \"NC\",\n",
        "    \"North Dakota\": \"ND\",\n",
        "    \"Ohio\": \"OH\",\n",
        "    \"Oklahoma\": \"OK\",\n",
        "    \"Oregon\": \"OR\",\n",
        "    \"Pennsylvania\": \"PA\",\n",
        "    \"Rhode Island\": \"RI\",\n",
        "    \"South Carolina\": \"SC\",\n",
        "    \"South Dakota\": \"SD\",\n",
        "    \"Tennessee\": \"TN\",\n",
        "    \"Texas\": \"TX\",\n",
        "    \"Utah\": \"UT\",\n",
        "    \"Vermont\": \"VT\",\n",
        "    \"Virginia\": \"VA\",\n",
        "    \"Washington\": \"WA\",\n",
        "    \"West Virginia\": \"WV\",\n",
        "    \"Wisconsin\": \"WI\",\n",
        "    \"Wyoming\": \"WY\",\n",
        "    \"District of Columbia\": \"DC\",\n",
        "    \"American Samoa\": \"AS\",\n",
        "    \"Guam\": \"GU\",\n",
        "    \"Northern Mariana Islands\": \"MP\",\n",
        "    \"Puerto Rico\": \"PR\",\n",
        "    \"United States Minor Outlying Islands\": \"UM\",\n",
        "    \"Virgin Islands, U.S.\": \"VI\",\n",
        "}\n",
        "\n",
        "# invert the dictionary\n",
        "abbrev_to_us_state = dict(map(reversed, us_state_to_abbrev.items()))"
      ],
      "metadata": {
        "id": "DNJOhgI6w2O6"
      },
      "execution_count": 10,
      "outputs": []
    },
    {
      "cell_type": "code",
      "source": [
        "cases_df[\"State\"] = cases_df[\"State\"].map(abbrev_to_us_state)\n",
        "deaths_df[\"State\"] = deaths_df[\"State\"].map(abbrev_to_us_state)"
      ],
      "metadata": {
        "id": "AgHckaEaw3pp"
      },
      "execution_count": 11,
      "outputs": []
    },
    {
      "cell_type": "code",
      "source": [
        "print(cases_df.head())\n"
      ],
      "metadata": {
        "colab": {
          "base_uri": "https://localhost:8080/"
        },
        "id": "yy9zlKskxMix",
        "outputId": "c73bf7dd-e66f-4936-ced2-c0af0dc73e86"
      },
      "execution_count": 12,
      "outputs": [
        {
          "output_type": "stream",
          "name": "stdout",
          "text": [
            "      County Name    State  2023-07-23\n",
            "1  Autauga County  Alabama       19913\n",
            "2  Baldwin County  Alabama       70521\n",
            "3  Barbour County  Alabama        7582\n",
            "4     Bibb County  Alabama        8149\n",
            "5   Blount County  Alabama       18872\n"
          ]
        }
      ]
    },
    {
      "cell_type": "code",
      "source": [
        "cases_df[\"key\"] = cases_df[\"County Name\"] + \", \" + cases_df[\"State\"]\n",
        "deaths_df[\"key\"] = deaths_df[\"County Name\"] + \", \" + deaths_df[\"State\"]\n",
        "census_df[\"key\"] = census_df[\"County\"] + \", \" + census_df[\"State\"]"
      ],
      "metadata": {
        "id": "zxkSNV0ehegE"
      },
      "execution_count": 14,
      "outputs": []
    },
    {
      "cell_type": "code",
      "source": [
        "cases_df.set_index(\"key\", inplace=True)\n",
        "deaths_df.set_index(\"key\", inplace=True)\n",
        "census_df.set_index(\"key\", inplace=True)"
      ],
      "metadata": {
        "id": "KXcOO6jFiJCV"
      },
      "execution_count": 15,
      "outputs": []
    },
    {
      "cell_type": "code",
      "source": [
        "print(census_df.head())"
      ],
      "metadata": {
        "colab": {
          "base_uri": "https://localhost:8080/"
        },
        "id": "0yXM4gvdiMGQ",
        "outputId": "27212ea6-aa56-4cdd-cadf-b870879f5356"
      },
      "execution_count": 16,
      "outputs": [
        {
          "output_type": "stream",
          "name": "stdout",
          "text": [
            "                                 County    State  TotalPop  IncomePerCap  \\\n",
            "key                                                                        \n",
            "Autauga County, Alabama  Autauga County  Alabama     55036         27824   \n",
            "Baldwin County, Alabama  Baldwin County  Alabama    203360         29364   \n",
            "Barbour County, Alabama  Barbour County  Alabama     26201         17561   \n",
            "Bibb County, Alabama        Bibb County  Alabama     22580         20911   \n",
            "Blount County, Alabama    Blount County  Alabama     57667         22021   \n",
            "\n",
            "                         Poverty  Unemployment  \n",
            "key                                             \n",
            "Autauga County, Alabama     13.7           5.2  \n",
            "Baldwin County, Alabama     11.8           5.5  \n",
            "Barbour County, Alabama     27.2          12.4  \n",
            "Bibb County, Alabama        15.2           8.2  \n",
            "Blount County, Alabama      15.6           4.9  \n"
          ]
        }
      ]
    },
    {
      "cell_type": "code",
      "source": [
        "cases_df.rename(columns={\"2023-07-23\": \"Cases\"}, inplace=True)\n",
        "deaths_df.rename(columns={\"2023-07-23\": \"Deaths\"}, inplace=True)"
      ],
      "metadata": {
        "id": "aHRmaBAtiyaI"
      },
      "execution_count": 19,
      "outputs": []
    },
    {
      "cell_type": "code",
      "source": [
        "print(\"cases_df columns:\", cases_df.columns.values.tolist())\n",
        "print(\"deaths_df columns:\", deaths_df.columns.values.tolist())"
      ],
      "metadata": {
        "colab": {
          "base_uri": "https://localhost:8080/"
        },
        "id": "xTYpITc-i7p_",
        "outputId": "bca68729-2287-4b5b-df7d-62681bdc712f"
      },
      "execution_count": 20,
      "outputs": [
        {
          "output_type": "stream",
          "name": "stdout",
          "text": [
            "cases_df columns: ['County Name', 'State', 'Cases']\n",
            "deaths_df columns: ['County Name', 'State', 'Deaths']\n"
          ]
        }
      ]
    },
    {
      "cell_type": "code",
      "source": [
        "join_df = cases_df.join(deaths_df[[\"Deaths\"]])\n",
        "join_df = join_df.join(census_df[[\"TotalPop\"]])"
      ],
      "metadata": {
        "id": "eQS03OpBjagO"
      },
      "execution_count": 29,
      "outputs": []
    },
    {
      "cell_type": "code",
      "source": [
        "join_df[\"CasesPerCap\"] = join_df[\"Cases\"] / join_df[\"TotalPop\"]\n",
        "join_df[\"DeathsPerCap\"] = join_df[\"Deaths\"] / join_df[\"TotalPop\"]"
      ],
      "metadata": {
        "id": "6UpE5WO8kHvr"
      },
      "execution_count": 30,
      "outputs": []
    },
    {
      "cell_type": "code",
      "source": [
        "print(\"Number of rows in join_df:\", len(join_df))"
      ],
      "metadata": {
        "colab": {
          "base_uri": "https://localhost:8080/"
        },
        "id": "dssMaRJykJCo",
        "outputId": "5ee3d325-f566-4a19-b5af-73b8b857a1e9"
      },
      "execution_count": 31,
      "outputs": [
        {
          "output_type": "stream",
          "name": "stdout",
          "text": [
            "Number of rows in join_df: 3142\n"
          ]
        }
      ]
    },
    {
      "cell_type": "code",
      "source": [
        "\n",
        "correlation_matrix = join_df.corr(numeric_only=True)\n",
        "print(correlation_matrix)\n"
      ],
      "metadata": {
        "colab": {
          "base_uri": "https://localhost:8080/"
        },
        "id": "adY7DOOWk21p",
        "outputId": "1c090064-ef72-4fe8-d56c-fc2174efc363"
      },
      "execution_count": 32,
      "outputs": [
        {
          "output_type": "stream",
          "name": "stdout",
          "text": [
            "                 Cases    Deaths  TotalPop  CasesPerCap  DeathsPerCap\n",
            "Cases         1.000000  0.949542  0.969875     0.059670     -0.121179\n",
            "Deaths        0.949542  1.000000  0.937218     0.043140     -0.044544\n",
            "TotalPop      0.969875  0.937218  1.000000     0.027721     -0.141002\n",
            "CasesPerCap   0.059670  0.043140  0.027721     1.000000      0.180533\n",
            "DeathsPerCap -0.121179 -0.044544 -0.141002     0.180533      1.000000\n"
          ]
        }
      ]
    },
    {
      "cell_type": "code",
      "source": [
        "import seaborn as sns\n",
        "import matplotlib.pyplot as plt\n",
        "\n",
        "sns.heatmap(correlation_matrix, annot=True, cmap='coolwarm', fmt='.2f', linewidths=0.5)\n",
        "\n",
        "plt.title('Correlation Matrix Heatmap')\n",
        "plt.show()\n"
      ],
      "metadata": {
        "colab": {
          "base_uri": "https://localhost:8080/",
          "height": 537
        },
        "id": "1vd0O1yXmEKU",
        "outputId": "f440a0d0-c69d-4bec-9ca0-a1e190316595"
      },
      "execution_count": 33,
      "outputs": [
        {
          "output_type": "display_data",
          "data": {
            "text/plain": [
              "<Figure size 640x480 with 2 Axes>"
            ],
            "image/png": "[encoded data removed]"
          },
          "metadata": {}
        }
      ]
    }
  ]
}