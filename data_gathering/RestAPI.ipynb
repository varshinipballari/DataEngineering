{
  "nbformat": 4,
  "nbformat_minor": 0,
  "metadata": {
    "colab": {
      "provenance": []
    },
    "kernelspec": {
      "name": "python3",
      "display_name": "Python 3"
    },
    "language_info": {
      "name": "python"
    }
  },
  "cells": [
    {
      "cell_type": "code",
      "execution_count": 10,
      "metadata": {
        "colab": {
          "base_uri": "https://localhost:8080/"
        },
        "id": "unLTKg3H5WKf",
        "outputId": "cf365408-3a61-47b0-c706-a41c2c003b9c"
      },
      "outputs": [
        {
          "output_type": "stream",
          "name": "stdout",
          "text": [
            "Enter city name : portland\n",
            "Enter state name: oregon\n",
            "Is it raining in portland, oregon right now? No\n",
            "Is it forecasted to be raining in Portland within the next three days? No\n"
          ]
        }
      ],
      "source": [
        "# import required modules\n",
        "import requests, json\n",
        "from datetime import datetime, timedelta\n",
        "\n",
        "# Enter your API key here\n",
        "api_key = \"12601c7f185cf6dfe1e8b53b0b4c1174\"\n",
        "\n",
        "# base_url variable to store url\n",
        "base_url = \"http://api.openweathermap.org/data/2.5/weather?\"\n",
        "\n",
        "# Give city name\n",
        "city_name = input(\"Enter city name : \")\n",
        "state_name = input(\"Enter state name: \")\n",
        "\n",
        "# complete_url variable to store\n",
        "# complete url address\n",
        "complete_url = base_url + \"appid=\" + api_key + \"&q=\" + city_name + \",\" + state_name + \",US\"\n",
        "\n",
        "# get method of requests module\n",
        "# return response object\n",
        "response = requests.get(complete_url)\n",
        "\n",
        "# json method of response object\n",
        "# convert json format data into\n",
        "# python format data\n",
        "current_response = response.json()\n",
        "\n",
        "#to check currently raining in portland\n",
        "currently_raining = any(w['main'] == 'Rain' for w in current_response['weather'])\n",
        "\n",
        "#to check if its forecasted to be raining in Portland within the next three days\n",
        "next_three_days = datetime.utcnow() + timedelta(days=3)\n",
        "next_three_days_forecast_url = base_url + f'q={city_name},{state_name}&appid={api_key}&dt={int(next_three_days.timestamp())}'\n",
        "futureresponse= requests.get(next_three_days_forecast_url)\n",
        "future= futureresponse.json()\n",
        "will_it_rain = any(weather['main'] == 'Rain' for weather in future['weather'])\n",
        "\n",
        "print(f\"Is it raining in {city_name}, {state_name} right now? {'Yes' if currently_raining else 'No'}\")\n",
        "print(f\"Is it forecasted to be raining in Portland within the next three days? {'Yes' if will_it_rain else 'No'}\")\n",
        "\n"
      ]
    }
  ]
}